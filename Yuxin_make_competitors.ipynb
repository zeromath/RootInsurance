{
  "nbformat": 4,
  "nbformat_minor": 0,
  "metadata": {
    "colab": {
      "name": "make_competitors.ipynb",
      "provenance": [],
      "collapsed_sections": [],
      "toc_visible": true
    },
    "kernelspec": {
      "name": "python3",
      "display_name": "Python 3"
    }
  },
  "cells": [
    {
      "cell_type": "code",
      "metadata": {
        "id": "PQUVUyngE04b",
        "colab_type": "code",
        "colab": {}
      },
      "source": [
        "import numpy as np "
      ],
      "execution_count": 0,
      "outputs": []
    },
    {
      "cell_type": "code",
      "metadata": {
        "id": "afbu9M0JRlpo",
        "colab_type": "code",
        "colab": {}
      },
      "source": [
        "import torch \n",
        "from torch.autograd import Variable \n",
        "from torch import optim\n",
        "from itertools import combinations\n",
        "import matplotlib.pyplot as plt"
      ],
      "execution_count": 0,
      "outputs": []
    },
    {
      "cell_type": "markdown",
      "metadata": {
        "id": "l9TVRmhHLLsy",
        "colab_type": "text"
      },
      "source": [
        "# Define the ```InsuranceCompany``` class"
      ]
    },
    {
      "cell_type": "code",
      "metadata": {
        "id": "saNE26sXE3fF",
        "colab_type": "code",
        "colab": {}
      },
      "source": [
        "class InsuranceCompany: \n",
        "\n",
        "    def __init__(self): \n",
        "        self.param_ = dict()\n",
        "        # Let the bid be uniformly in mean-span, mean+span\n",
        "        self.param_['mean'] = 10 \n",
        "        self.param_['span'] = 2\n",
        "    \n",
        "    def set_param(self, **kwargs):\n",
        "        # Use this function to set parameters like married, num_of_vehicles etc \n",
        "        for k,v in kwargs.items(): \n",
        "            self.param_[k] = v \n",
        "\n",
        "    def get_param(self): \n",
        "        return self.param_\n",
        "\n",
        "    def bid(self): \n",
        "        bid_mean = self.param_['mean']\n",
        "        bid_span = self.param_['span']\n",
        "        return (2*bid_span)*np.random.rand() + bid_mean - bid_span\n",
        "        \n",
        "        "
      ],
      "execution_count": 0,
      "outputs": []
    },
    {
      "cell_type": "markdown",
      "metadata": {
        "id": "q7yLTgaeLQkj",
        "colab_type": "text"
      },
      "source": [
        "## Function signature \n",
        "\n",
        "The sample use of this function is as follows. Note that parameters like ```num_of_drivers``` is used to distinguish between instances of the class, but do NOT affect the bedding behaviors. In practice, we only change the parameters like ```mean``` and ```span``` to train the models to fit to currently observed behaviors. "
      ]
    },
    {
      "cell_type": "code",
      "metadata": {
        "id": "yrvV6F_AHmHQ",
        "colab_type": "code",
        "outputId": "ff6bb061-c0c4-4b80-ebaf-af6e5b526f26",
        "colab": {
          "base_uri": "https://localhost:8080/",
          "height": 34
        }
      },
      "source": [
        "# Initialize the insurance company object like this: \n",
        "ins = InsuranceCompany()\n",
        "ins.set_param(num_of_driver=2)\n",
        "print(ins.get_param())"
      ],
      "execution_count": 0,
      "outputs": [
        {
          "output_type": "stream",
          "text": [
            "{'mean': 10, 'span': 2, 'num_of_driver': 2}\n"
          ],
          "name": "stdout"
        }
      ]
    },
    {
      "cell_type": "code",
      "metadata": {
        "id": "junPeRu1MjgR",
        "colab_type": "code",
        "outputId": "94259a72-a045-481c-b670-440652ce34c7",
        "colab": {
          "base_uri": "https://localhost:8080/",
          "height": 34
        }
      },
      "source": [
        "# Ask the company to bid like this: \n",
        "ins.bid()"
      ],
      "execution_count": 0,
      "outputs": [
        {
          "output_type": "execute_result",
          "data": {
            "text/plain": [
              "8.50293991225879"
            ]
          },
          "metadata": {
            "tags": []
          },
          "execution_count": 55
        }
      ]
    },
    {
      "cell_type": "code",
      "metadata": {
        "id": "O2iD0YcMMr14",
        "colab_type": "code",
        "colab": {}
      },
      "source": [
        "# Create our company who only bids $10\n",
        "acme_company = InsuranceCompany()\n",
        "acme_company.set_param(span=0)"
      ],
      "execution_count": 0,
      "outputs": []
    },
    {
      "cell_type": "code",
      "metadata": {
        "id": "MPBQy0jiNcPk",
        "colab_type": "code",
        "outputId": "6cc6fd12-7b8f-4642-d958-c431157440a6",
        "colab": {
          "base_uri": "https://localhost:8080/",
          "height": 34
        }
      },
      "source": [
        "# test that acme_company only bids $10 \n",
        "acme_company.bid()"
      ],
      "execution_count": 0,
      "outputs": [
        {
          "output_type": "execute_result",
          "data": {
            "text/plain": [
              "10.0"
            ]
          },
          "metadata": {
            "tags": []
          },
          "execution_count": 57
        }
      ]
    },
    {
      "cell_type": "markdown",
      "metadata": {
        "id": "F4vslK9kNjtg",
        "colab_type": "text"
      },
      "source": [
        "# Find distribution of competitors that fit our model"
      ]
    },
    {
      "cell_type": "markdown",
      "metadata": {
        "id": "ldYKUH51OEs2",
        "colab_type": "text"
      },
      "source": [
        "Notice that the combination of companies to make our sample distribution is certainly not unique. Here we fix the ```span``` parameters and tune the ```mean``` to fit to our model. There are 16 different combinations of customer categories, so we have to tune the model 16 times. \n",
        "\n",
        "In all models, we define the loss to be $L^2$ norm of the actual distribution and the ideal distribution: "
      ]
    },
    {
      "cell_type": "code",
      "metadata": {
        "id": "nb-TufAAae7o",
        "colab_type": "code",
        "colab": {}
      },
      "source": [
        "def mse(outcome, result): \n",
        "    '''\n",
        "    Args: \n",
        "        outcome (pytorch Variable): some given distribution of ranking \n",
        "        result (pytorch Variable): desired distribution of ranking \n",
        "    Returns: \n",
        "        L^2 norm of error (pytorch Variable): ||outcome-result||_{L^2}^2\n",
        "    '''\n",
        "    # outcome = outcome predicted by model \n",
        "    # result = actual result \n",
        "    \n",
        "    return torch.mean( (outcome-result).pow(2) )\n",
        "\n",
        "def forward(x): \n",
        "    '''\n",
        "    Args: \n",
        "        x (pytorch Variable): the input prob. x[i] = i-th competitor's probability of bidding more\n",
        "            than $10 \n",
        "    Returns:\n",
        "        outcome (pytorch Variable): the resulting distribution of ranking. \n",
        "                                    outcome[i] = prob of [$10 rank=i+1]\n",
        "    '''\n",
        "    # Forward pass \n",
        "    outcome = torch.tensor([1.,1.,1.,1., 1.])\n",
        "    outcome[0] = (1.-x[0])*(1.-x[1])*(1.-x[2])*(1.-x[3])\n",
        "    outcome[1] = (1.-x[0])*(1.-x[1])*(1.-x[2])*(x[3]) \\\n",
        "                 + (1.-x[0])*(1.-x[1])*(x[2])*(1.-x[3]) \\\n",
        "                 + (1.-x[0])*(x[1])*(1.-x[2])*(1.-x[3]) \\\n",
        "                 + (x[0])*(1.-x[1])*(1.-x[2])*(1.-x[3])\n",
        "    outcome[3] = x[0]*x[1]*x[2]*(1.0-x[3]) \\\n",
        "                 + x[0]*x[1]*(1.0-x[2])*x[3] \\\n",
        "                 + x[0]*(1.0-x[1])*x[2]*x[3] \\\n",
        "                 + (1.0-x[0])*x[1]*x[2]*x[3]\n",
        "    outcome[4] = x[0]*x[1]*x[2]*x[3]\n",
        "    outcome[2] = 1-outcome[0]-outcome[1]-outcome[3]-outcome[4]\n",
        "    return outcome "
      ],
      "execution_count": 0,
      "outputs": []
    },
    {
      "cell_type": "markdown",
      "metadata": {
        "id": "SqSES7bpuxSu",
        "colab_type": "text"
      },
      "source": [
        "We can automatically train the competitors to generate the desired distribution. "
      ]
    },
    {
      "cell_type": "code",
      "metadata": {
        "id": "_qKYuxIOYQUN",
        "colab_type": "code",
        "colab": {}
      },
      "source": [
        "def train(known_result, epochs=1000): \n",
        "    # Define conditions for model \n",
        "    desired_result = Variable(torch.tensor(known_result), requires_grad=False)\n",
        "    prob = Variable(torch.rand(4), requires_grad=True)\n",
        "\n",
        "    # model settings \n",
        "    learning_rate = 0.001\n",
        "    # Set up optimizer \n",
        "    optim = torch.optim.SGD([prob], lr=learning_rate, momentum=.9)\n",
        "    # Record log of training \n",
        "    loss_history = []\n",
        "\n",
        "    for e in range(epochs): \n",
        "        optim.zero_grad()\n",
        "        # print('Iteration', e)\n",
        "\n",
        "        # Forward pass \n",
        "        outcome = forward(prob)\n",
        "\n",
        "        # Compute loss \n",
        "        loss = mse(desired_result, outcome)\n",
        "\n",
        "        # Record loss history \n",
        "        loss_history.append(loss.data)\n",
        "\n",
        "        # Backward pass \n",
        "        loss.backward()\n",
        "        optim.step()\n",
        "\n",
        "        # Print loss \n",
        "        # print(' Training loss:', loss.data)\n",
        "    plt.plot(loss_history)\n",
        "    return prob"
      ],
      "execution_count": 0,
      "outputs": []
    },
    {
      "cell_type": "code",
      "metadata": {
        "id": "zSPinVQKtEdR",
        "colab_type": "code",
        "colab": {}
      },
      "source": [
        "# Record the training results\n",
        "## Keys in trained_prob are of the form 'no,1d,2v,m'\n",
        "## no = not currently insured \n",
        "## 1d = 1 driver \n",
        "## 2v = 2 vehicles \n",
        "## m  = married\n",
        "\n",
        "trained_prob = dict()"
      ],
      "execution_count": 0,
      "outputs": []
    },
    {
      "cell_type": "markdown",
      "metadata": {
        "id": "zA2nigIcPhWu",
        "colab_type": "text"
      },
      "source": [
        "## not currrently insured, 1 driver, 2 vehicles, married\n",
        "\n",
        "About 20% of the entire population falls into this category. We are mostly ranked #5 in this category, but the turnover rate is high (about 50% who clicked on the ad actually made the purchase, although we are ranked #3). \n",
        "\n",
        "Currently, we have the following ranking distribution:\n",
        "\n",
        "Rank 3 -- 18.4% \n",
        "\n",
        "Rank 4 -- 31.5% \n",
        "\n",
        "Rank 5 -- 50.1%\n",
        "\n"
      ]
    },
    {
      "cell_type": "code",
      "metadata": {
        "id": "bQvgOfi9tbWe",
        "colab_type": "code",
        "colab": {
          "base_uri": "https://localhost:8080/",
          "height": 268
        },
        "outputId": "d5944e22-1f3d-4c92-f1d0-2076e94868ce"
      },
      "source": [
        "trained_prob['no,1d,2v,m'] = train(np.array([0,0,0.184, 0.315, 0.501]))"
      ],
      "execution_count": 318,
      "outputs": [
        {
          "output_type": "display_data",
          "data": {
            "image/png": "[encoded data removed]",
            "text/plain": [
              "<Figure size 432x288 with 1 Axes>"
            ]
          },
          "metadata": {
            "tags": [],
            "needs_background": "light"
          }
        }
      ]
    },
    {
      "cell_type": "markdown",
      "metadata": {
        "id": "jhctMCi8oexp",
        "colab_type": "text"
      },
      "source": [
        "## not currrently insured, 1 driver, 1 vehicle, married\n",
        "\n",
        "About 7.5% of the entire population falls into this category. \n",
        "\n",
        "Currently, our ranking is: \n",
        "```0.210456\t0.261394\t0.317694\t0.210456\t0.000000```\n"
      ]
    },
    {
      "cell_type": "code",
      "metadata": {
        "id": "0YEU1FdxtCFq",
        "colab_type": "code",
        "colab": {
          "base_uri": "https://localhost:8080/",
          "height": 264
        },
        "outputId": "858d6ffc-f5a7-4bcb-cd7c-d914e3a6cc2f"
      },
      "source": [
        "trained_prob['no,1d,1v,m'] = train(np.array([0.21,0.26,0.32,0.21,0.0]), 2000)"
      ],
      "execution_count": 322,
      "outputs": [
        {
          "output_type": "display_data",
          "data": {
            "image/png": "[encoded data removed]",
            "text/plain": [
              "<Figure size 432x288 with 1 Axes>"
            ]
          },
          "metadata": {
            "tags": [],
            "needs_background": "light"
          }
        }
      ]
    },
    {
      "cell_type": "markdown",
      "metadata": {
        "id": "VYD0AiNRvWvX",
        "colab_type": "text"
      },
      "source": [
        "## not currrently insured, 2 drivers, 1 vehicle, unmarried\n",
        "\n",
        "About .75% of the entire population falls into this category. \n",
        "\n",
        "Currently, our ranking is: \n",
        "```0.495606\t0.305800\t0.198594\t0.000000\t0.000000```\n"
      ]
    },
    {
      "cell_type": "code",
      "metadata": {
        "id": "R1fbQse-tq4h",
        "colab_type": "code",
        "colab": {
          "base_uri": "https://localhost:8080/",
          "height": 264
        },
        "outputId": "b528973b-ecf9-469b-dfe5-da5a63602273"
      },
      "source": [
        "trained_prob['no,2d,1v,m'] = train(np.array([0.495,0.305, 0.20,0.0,0.0]), 2000)"
      ],
      "execution_count": 327,
      "outputs": [
        {
          "output_type": "display_data",
          "data": {
            "image/png": "[encoded data removed]",
            "text/plain": [
              "<Figure size 432x288 with 1 Axes>"
            ]
          },
          "metadata": {
            "tags": [],
            "needs_background": "light"
          }
        }
      ]
    },
    {
      "cell_type": "code",
      "metadata": {
        "id": "wD32vk_2v-J6",
        "colab_type": "code",
        "colab": {}
      },
      "source": [
        ""
      ],
      "execution_count": 0,
      "outputs": []
    }
  ]
}