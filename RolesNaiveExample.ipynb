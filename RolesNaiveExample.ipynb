{
 "cells": [
  {
   "cell_type": "markdown",
   "metadata": {},
   "source": [
    "# Import Necessary Modules"
   ]
  },
  {
   "cell_type": "code",
   "execution_count": 2,
   "metadata": {},
   "outputs": [],
   "source": [
    "import numpy as np\n",
    "import pandas as pd\n",
    "from roles_naive import Company, SearchWebsite, updateQ\n",
    "import pickle"
   ]
  },
  {
   "cell_type": "markdown",
   "metadata": {},
   "source": [
    "# Read in data"
   ]
  },
  {
   "cell_type": "code",
   "execution_count": 3,
   "metadata": {},
   "outputs": [],
   "source": [
    "data = pd.read_csv(\"clean.csv\")"
   ]
  },
  {
   "cell_type": "code",
   "execution_count": 4,
   "metadata": {},
   "outputs": [],
   "source": [
    "### Initialize objects\n",
    "\n",
    "#with open(\"sw.data\", \"rb\") as fp:\n",
    "#    sw = pickle.load(fp)\n",
    "#\n",
    "# or\n",
    "sw = SearchWebsite(updateQ, 10000, p_vehicle=0.6083, p_driver=0.4169, p_insured=0.4992, p_marital=0.7627)"
   ]
  },
  {
   "cell_type": "code",
   "execution_count": 5,
   "metadata": {
    "scrolled": true
   },
   "outputs": [
    {
     "name": "stdout",
     "output_type": "stream",
     "text": [
      "epoch: 10\n",
      "epoch: 20\n",
      "epoch: 30\n",
      "epoch: 40\n",
      "epoch: 50\n",
      "epoch: 60\n",
      "epoch: 70\n",
      "epoch: 80\n",
      "epoch: 90\n",
      "epoch: 100\n",
      "Training finished\n"
     ]
    }
   ],
   "source": [
    "for e in range(100):\n",
    "    sw.train()\n",
    "    if e % 10 == 9:\n",
    "        print('epoch: {}'.format(e + 1))\n",
    "print(\"Training finished\")"
   ]
  },
  {
   "cell_type": "markdown",
   "metadata": {},
   "source": [
    "# Test q_table"
   ]
  },
  {
   "cell_type": "code",
   "execution_count": 6,
   "metadata": {},
   "outputs": [],
   "source": [
    "sw.test()"
   ]
  },
  {
   "cell_type": "code",
   "execution_count": 7,
   "metadata": {},
   "outputs": [
    {
     "name": "stdout",
     "output_type": "stream",
     "text": [
      "281\n",
      "151\n",
      "96\n",
      "58\n",
      "10\n"
     ]
    }
   ],
   "source": [
    "for i in range(5):\n",
    "    print(sw.companies[i].num_total_sold)"
   ]
  },
  {
   "cell_type": "code",
   "execution_count": 8,
   "metadata": {},
   "outputs": [],
   "source": [
    "df_c = []\n",
    "for company in sw.companies:\n",
    "    df_c.append(pd.DataFrame(company.record))"
   ]
  },
  {
   "cell_type": "code",
   "execution_count": 9,
   "metadata": {},
   "outputs": [
    {
     "name": "stdout",
     "output_type": "stream",
     "text": [
      "9.6292\n",
      "9.7653\n",
      "9.6089\n",
      "9.7154\n",
      "9.5419\n"
     ]
    }
   ],
   "source": [
    "for df in df_c:\n",
    "    print(df.current_price.mean())"
   ]
  },
  {
   "cell_type": "code",
   "execution_count": 11,
   "metadata": {},
   "outputs": [],
   "source": [
    "with open(\"sw.data\", \"wb\") as fp:\n",
    "    pickle.dump(sw, fp)"
   ]
  },
  {
   "cell_type": "code",
   "execution_count": null,
   "metadata": {},
   "outputs": [],
   "source": []
  }
 ],
 "metadata": {
  "kernelspec": {
   "display_name": "Python 3",
   "language": "python",
   "name": "python3"
  },
  "language_info": {
   "codemirror_mode": {
    "name": "ipython",
    "version": 3
   },
   "file_extension": ".py",
   "mimetype": "text/x-python",
   "name": "python",
   "nbconvert_exporter": "python",
   "pygments_lexer": "ipython3",
   "version": "3.7.6"
  }
 },
 "nbformat": 4,
 "nbformat_minor": 2
}
