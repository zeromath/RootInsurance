{
  "nbformat": 4,
  "nbformat_minor": 0,
  "metadata": {
    "colab": {
      "name": "make_competitors.ipynb",
      "provenance": [],
      "collapsed_sections": [],
      "authorship_tag": "ABX9TyOyfvz96kVc8FXWsBTBybHx",
      "include_colab_link": true
    },
    "kernelspec": {
      "name": "python3",
      "display_name": "Python 3"
    }
  },
  "cells": [
    {
      "cell_type": "markdown",
      "metadata": {
        "id": "view-in-github",
        "colab_type": "text"
      },
      "source": [
        "<a href=\"https://colab.research.google.com/github/zeromath/RootInsurance/blob/master/make_competitors.ipynb\" target=\"_parent\"><img src=\"https://colab.research.google.com/assets/colab-badge.svg\" alt=\"Open In Colab\"/></a>"
      ]
    },
    {
      "cell_type": "code",
      "metadata": {
        "id": "PQUVUyngE04b",
        "colab_type": "code",
        "colab": {}
      },
      "source": [
        "import numpy as np "
      ],
      "execution_count": 0,
      "outputs": []
    },
    {
      "cell_type": "code",
      "metadata": {
        "id": "afbu9M0JRlpo",
        "colab_type": "code",
        "colab": {}
      },
      "source": [
        "import torch \n",
        "from torch.autograd import Variable \n",
        "from torch import optim\n",
        "from itertools import combinations\n",
        "import matplotlib.pyplot as plt"
      ],
      "execution_count": 0,
      "outputs": []
    },
    {
      "cell_type": "markdown",
      "metadata": {
        "id": "l9TVRmhHLLsy",
        "colab_type": "text"
      },
      "source": [
        "# Define the ```InsuranceCompany``` class"
      ]
    },
    {
      "cell_type": "code",
      "metadata": {
        "id": "saNE26sXE3fF",
        "colab_type": "code",
        "colab": {}
      },
      "source": [
        "class InsuranceCompany: \n",
        "\n",
        "    def __init__(self): \n",
        "        self.param_ = dict()\n",
        "        # Let the bid be uniformly in mean-span, mean+span\n",
        "        self.param_['mean'] = 10 \n",
        "        self.param_['span'] = 2\n",
        "    \n",
        "    def set_param(self, **kwargs):\n",
        "        # Use this function to set parameters like married, num_of_vehicles etc \n",
        "        for k,v in kwargs.items(): \n",
        "            self.param_[k] = v \n",
        "\n",
        "    def get_param(self): \n",
        "        return self.param_\n",
        "\n",
        "    def bid(self): \n",
        "        bid_mean = self.param_['mean']\n",
        "        bid_span = self.param_['span']\n",
        "        return (2*bid_span)*np.random.rand() + bid_mean - bid_span\n",
        "        \n",
        "        "
      ],
      "execution_count": 0,
      "outputs": []
    },
    {
      "cell_type": "markdown",
      "metadata": {
        "id": "q7yLTgaeLQkj",
        "colab_type": "text"
      },
      "source": [
        "## Function signature \n",
        "\n",
        "The sample use of this function is as follows. Note that parameters like ```num_of_drivers``` is used to distinguish between instances of the class, but do NOT affect the bedding behaviors. In practice, we only change the parameters like ```mean``` and ```span``` to train the models to fit to currently observed behaviors. "
      ]
    },
    {
      "cell_type": "code",
      "metadata": {
        "id": "yrvV6F_AHmHQ",
        "colab_type": "code",
        "outputId": "ff6bb061-c0c4-4b80-ebaf-af6e5b526f26",
        "colab": {
          "base_uri": "https://localhost:8080/",
          "height": 34
        }
      },
      "source": [
        "# Initialize the insurance company object like this: \n",
        "ins = InsuranceCompany()\n",
        "ins.set_param(num_of_driver=2)\n",
        "print(ins.get_param())"
      ],
      "execution_count": 0,
      "outputs": [
        {
          "output_type": "stream",
          "text": [
            "{'mean': 10, 'span': 2, 'num_of_driver': 2}\n"
          ],
          "name": "stdout"
        }
      ]
    },
    {
      "cell_type": "code",
      "metadata": {
        "id": "junPeRu1MjgR",
        "colab_type": "code",
        "outputId": "94259a72-a045-481c-b670-440652ce34c7",
        "colab": {
          "base_uri": "https://localhost:8080/",
          "height": 34
        }
      },
      "source": [
        "# Ask the company to bid like this: \n",
        "ins.bid()"
      ],
      "execution_count": 0,
      "outputs": [
        {
          "output_type": "execute_result",
          "data": {
            "text/plain": [
              "8.50293991225879"
            ]
          },
          "metadata": {
            "tags": []
          },
          "execution_count": 55
        }
      ]
    },
    {
      "cell_type": "code",
      "metadata": {
        "id": "O2iD0YcMMr14",
        "colab_type": "code",
        "colab": {}
      },
      "source": [
        "# Create our company who only bids $10\n",
        "acme_company = InsuranceCompany()\n",
        "acme_company.set_param(span=0)"
      ],
      "execution_count": 0,
      "outputs": []
    },
    {
      "cell_type": "code",
      "metadata": {
        "id": "MPBQy0jiNcPk",
        "colab_type": "code",
        "outputId": "6cc6fd12-7b8f-4642-d958-c431157440a6",
        "colab": {
          "base_uri": "https://localhost:8080/",
          "height": 34
        }
      },
      "source": [
        "# test that acme_company only bids $10 \n",
        "acme_company.bid()"
      ],
      "execution_count": 0,
      "outputs": [
        {
          "output_type": "execute_result",
          "data": {
            "text/plain": [
              "10.0"
            ]
          },
          "metadata": {
            "tags": []
          },
          "execution_count": 57
        }
      ]
    },
    {
      "cell_type": "markdown",
      "metadata": {
        "id": "acEAGi-Qyk5f",
        "colab_type": "text"
      },
      "source": [
        "# Define the Environment class \n",
        "\n",
        "This is the class that simulates the bidding environment. Our company, together with four competing agents will each give a price, and the environment will compute the rank for our agent. Based on the rank, the environment returns a reward. \n",
        "\n",
        "$$Reward = \\left\\{ \\begin{array}{ll} P-bid, & \\text{if policy sold}  \\\\ -bid, & \\text{if clicked but not sold} \\\\\n",
        "0, & \\text{if not clicked}\\end{array} \\right.$$\n",
        "\n",
        "Each outcome's probability will be determined by the distribution of our given data. "
      ]
    },
    {
      "cell_type": "code",
      "metadata": {
        "id": "J1ZfukxcziFO",
        "colab_type": "code",
        "colab": {}
      },
      "source": [
        "class BidEnvironment: \n",
        "    def __init__(self): \n",
        "        self.param_ = dict()\n",
        "        # sale_prob_ = []\n",
        "        # click_prob_ = []\n",
        "        # P = 20.0 \n",
        "\n",
        "    def set_param(self, **kwargs):\n",
        "        ''' Use this function to set parameters\n",
        "        '''\n",
        "        for k,v in kwargs.items(): \n",
        "            self.param_[k] = v\n",
        "\n",
        "    def rank_bid(self, bids): \n",
        "        ''' Computes the rank given bids \n",
        "        Args:\n",
        "            bids (list): list of bids \n",
        "        Returns: \n",
        "            rank (list): rank of bids. rank[i] = ranking of i-th bid in bids \n",
        "        '''\n",
        "        bids_sorted = sorted( [(bid,company) for company,bid in enumerate(bids)] , reverse=True)\n",
        "        rank = [0]*5\n",
        "        for r, pair in enumerate(bids_sorted):\n",
        "            rank[pair[1]] = r \n",
        "        return rank \n",
        "\n",
        "\n",
        "    def gen_reward(self, bid, rank): \n",
        "        ''' Generates rewards and selling status according to rank\n",
        "        Args:\n",
        "            bid (float): our bid \n",
        "            rank (float): our rank \n",
        "        Returns:\n",
        "            rewards (float): rewards \n",
        "            click (int): 1 iff clicked \n",
        "            sold (int): 1 iff sold \n",
        "        '''\n",
        "        prob_clicking = self.param_['click_prob_'][rank]\n",
        "        prob_selling = self.param_['sale_prob_'][rank]\n",
        "        outcome = np.random.rand()\n",
        "        if outcome < prob_selling: \n",
        "            # policy sold! \n",
        "            return (self.param_['P']-bid, 1,1)\n",
        "        if outcome < prob_clicking: \n",
        "            # clicked but not sold \n",
        "            return (-bid, 1,0)\n",
        "        # did not click \n",
        "        return (0,0,0)\n",
        "\n"
      ],
      "execution_count": 0,
      "outputs": []
    },
    {
      "cell_type": "markdown",
      "metadata": {
        "id": "3tTpkXVd2Qvz",
        "colab_type": "text"
      },
      "source": [
        "We can initialize the environment like so: "
      ]
    },
    {
      "cell_type": "code",
      "metadata": {
        "id": "cvseJ81Z2P8z",
        "colab_type": "code",
        "colab": {}
      },
      "source": [
        "# Environment for, say no insurance, 1 driver, 1 vehicle, married\n",
        "env = BidEnvironment()\n",
        "# Infer unknown probability from the whole distribution \n",
        "env.set_param(click_prob_=[0.509, 0.215, 0.148, 0.038, 0.02], \n",
        "              sale_prob_=[0.2866, 0.1179, 0.06329, 0.031847, 0.009482], \n",
        "              P = 0) "
      ],
      "execution_count": 0,
      "outputs": []
    },
    {
      "cell_type": "markdown",
      "metadata": {
        "id": "F4vslK9kNjtg",
        "colab_type": "text"
      },
      "source": [
        "# Find distribution of competitors that fit our model"
      ]
    },
    {
      "cell_type": "markdown",
      "metadata": {
        "id": "ldYKUH51OEs2",
        "colab_type": "text"
      },
      "source": [
        "Notice that the combination of companies to make our sample distribution is certainly not unique. Here we fix the ```span``` parameters and tune the ```mean``` to fit to our model. There are 16 different combinations of customer categories, so we have to tune the model 16 times. \n",
        "\n",
        "In all models, we define the loss to be $L^2$ norm of the actual distribution and the ideal distribution: "
      ]
    },
    {
      "cell_type": "code",
      "metadata": {
        "id": "nb-TufAAae7o",
        "colab_type": "code",
        "colab": {}
      },
      "source": [
        "def mse(outcome, result): \n",
        "    '''\n",
        "    Args: \n",
        "        outcome (pytorch Variable): some given distribution of ranking \n",
        "        result (pytorch Variable): desired distribution of ranking \n",
        "    Returns: \n",
        "        L^2 norm of error (pytorch Variable): ||outcome-result||_{L^2}^2\n",
        "    '''\n",
        "    # outcome = outcome predicted by model \n",
        "    # result = actual result \n",
        "    \n",
        "    return torch.mean( (outcome-result).pow(2) )\n",
        "\n",
        "def forward(x): \n",
        "    '''\n",
        "    Args: \n",
        "        x (pytorch Variable): the input prob. x[i] = i-th competitor's probability of bidding more\n",
        "            than $10 \n",
        "    Returns:\n",
        "        outcome (pytorch Variable): the resulting distribution of ranking. \n",
        "                                    outcome[i] = prob of [$10 rank=i+1]\n",
        "    '''\n",
        "    # Forward pass \n",
        "    outcome = torch.tensor([1.,1.,1.,1., 1.])\n",
        "    outcome[0] = (1.-x[0])*(1.-x[1])*(1.-x[2])*(1.-x[3])\n",
        "    outcome[1] = (1.-x[0])*(1.-x[1])*(1.-x[2])*(x[3]) \\\n",
        "                 + (1.-x[0])*(1.-x[1])*(x[2])*(1.-x[3]) \\\n",
        "                 + (1.-x[0])*(x[1])*(1.-x[2])*(1.-x[3]) \\\n",
        "                 + (x[0])*(1.-x[1])*(1.-x[2])*(1.-x[3])\n",
        "    outcome[3] = x[0]*x[1]*x[2]*(1.0-x[3]) \\\n",
        "                 + x[0]*x[1]*(1.0-x[2])*x[3] \\\n",
        "                 + x[0]*(1.0-x[1])*x[2]*x[3] \\\n",
        "                 + (1.0-x[0])*x[1]*x[2]*x[3]\n",
        "    outcome[4] = x[0]*x[1]*x[2]*x[3]\n",
        "    outcome[2] = 1-outcome[0]-outcome[1]-outcome[3]-outcome[4]\n",
        "    return outcome "
      ],
      "execution_count": 0,
      "outputs": []
    },
    {
      "cell_type": "markdown",
      "metadata": {
        "id": "SqSES7bpuxSu",
        "colab_type": "text"
      },
      "source": [
        "We can automatically train the competitors to generate the desired distribution. "
      ]
    },
    {
      "cell_type": "code",
      "metadata": {
        "id": "_qKYuxIOYQUN",
        "colab_type": "code",
        "colab": {}
      },
      "source": [
        "def train(known_result, epochs=1000): \n",
        "    # Define conditions for model \n",
        "    desired_result = Variable(torch.tensor(known_result), requires_grad=False)\n",
        "    prob = Variable(torch.rand(4), requires_grad=True)\n",
        "\n",
        "    # model settings \n",
        "    learning_rate = 0.001\n",
        "    # Set up optimizer \n",
        "    optim = torch.optim.SGD([prob], lr=learning_rate, momentum=.9)\n",
        "    # Record log of training \n",
        "    loss_history = []\n",
        "\n",
        "    for e in range(epochs): \n",
        "        optim.zero_grad()\n",
        "        # print('Iteration', e)\n",
        "\n",
        "        # Forward pass \n",
        "        outcome = forward(prob)\n",
        "\n",
        "        # Compute loss \n",
        "        loss = mse(desired_result, outcome)\n",
        "\n",
        "        # Record loss history \n",
        "        loss_history.append(loss.data)\n",
        "\n",
        "        # Backward pass \n",
        "        loss.backward()\n",
        "        optim.step()\n",
        "\n",
        "        # Print loss \n",
        "        # print(' Training loss:', loss.data)\n",
        "    plt.plot(loss_history)\n",
        "    return prob"
      ],
      "execution_count": 0,
      "outputs": []
    },
    {
      "cell_type": "code",
      "metadata": {
        "id": "zSPinVQKtEdR",
        "colab_type": "code",
        "colab": {}
      },
      "source": [
        "# Record the training results\n",
        "## Keys in trained_prob are of the form 'no,1d,2v,m'\n",
        "## no = not currently insured \n",
        "## 1d = 1 driver \n",
        "## 2v = 2 vehicles \n",
        "## m  = married\n",
        "\n",
        "trained_prob = dict()"
      ],
      "execution_count": 0,
      "outputs": []
    },
    {
      "cell_type": "markdown",
      "metadata": {
        "id": "zA2nigIcPhWu",
        "colab_type": "text"
      },
      "source": [
        "## not currrently insured, 1 driver, 2 vehicles, married\n",
        "\n",
        "About 20% of the entire population falls into this category. We are mostly ranked #5 in this category, but the turnover rate is high (about 50% who clicked on the ad actually made the purchase, although we are ranked #3). \n",
        "\n",
        "Currently, we have the following ranking distribution:\n",
        "\n",
        "Rank 3 -- 18.4% \n",
        "\n",
        "Rank 4 -- 31.5% \n",
        "\n",
        "Rank 5 -- 50.1%\n",
        "\n"
      ]
    },
    {
      "cell_type": "code",
      "metadata": {
        "id": "bQvgOfi9tbWe",
        "colab_type": "code",
        "outputId": "d5944e22-1f3d-4c92-f1d0-2076e94868ce",
        "colab": {
          "base_uri": "https://localhost:8080/",
          "height": 268
        }
      },
      "source": [
        "trained_prob['no,1d,2v,m'] = train(np.array([0,0,0.184, 0.315, 0.501]))"
      ],
      "execution_count": 0,
      "outputs": [
        {
          "output_type": "display_data",
          "data": {
            "image/png": "[encoded data removed]",
            "text/plain": [
              "<Figure size 432x288 with 1 Axes>"
            ]
          },
          "metadata": {
            "tags": [],
            "needs_background": "light"
          }
        }
      ]
    },
    {
      "cell_type": "markdown",
      "metadata": {
        "id": "jhctMCi8oexp",
        "colab_type": "text"
      },
      "source": [
        "## not currrently insured, 1 driver, 1 vehicle, married\n",
        "\n",
        "About 7.5% of the entire population falls into this category. \n",
        "\n",
        "Currently, our ranking is: \n",
        "```0.210456\t0.261394\t0.317694\t0.210456\t0.000000```\n"
      ]
    },
    {
      "cell_type": "code",
      "metadata": {
        "id": "0YEU1FdxtCFq",
        "colab_type": "code",
        "outputId": "b0c76cc6-8842-43ec-c44a-f8021a1eab34",
        "colab": {
          "base_uri": "https://localhost:8080/",
          "height": 264
        }
      },
      "source": [
        "trained_prob['no,1d,1v,m'] = train(np.array([0.21,0.26,0.32,0.21,0.0]), 3000)"
      ],
      "execution_count": 17,
      "outputs": [
        {
          "output_type": "display_data",
          "data": {
            "image/png": "[encoded data removed]",
            "text/plain": [
              "<Figure size 432x288 with 1 Axes>"
            ]
          },
          "metadata": {
            "tags": [],
            "needs_background": "light"
          }
        }
      ]
    },
    {
      "cell_type": "markdown",
      "metadata": {
        "id": "VYD0AiNRvWvX",
        "colab_type": "text"
      },
      "source": [
        "## not currrently insured, 2 drivers, 1 vehicle, unmarried\n",
        "\n",
        "About .75% of the entire population falls into this category. \n",
        "\n",
        "Currently, our ranking is: \n",
        "```0.495606\t0.305800\t0.198594\t0.000000\t0.000000```\n"
      ]
    },
    {
      "cell_type": "code",
      "metadata": {
        "id": "R1fbQse-tq4h",
        "colab_type": "code",
        "outputId": "b528973b-ecf9-469b-dfe5-da5a63602273",
        "colab": {
          "base_uri": "https://localhost:8080/",
          "height": 264
        }
      },
      "source": [
        "trained_prob['no,2d,1v,m'] = train(np.array([0.495,0.305, 0.20,0.0,0.0]), 2000)"
      ],
      "execution_count": 0,
      "outputs": [
        {
          "output_type": "display_data",
          "data": {
            "image/png": "[encoded data removed]",
            "text/plain": [
              "<Figure size 432x288 with 1 Axes>"
            ]
          },
          "metadata": {
            "tags": [],
            "needs_background": "light"
          }
        }
      ]
    },
    {
      "cell_type": "code",
      "metadata": {
        "id": "wD32vk_2v-J6",
        "colab_type": "code",
        "colab": {}
      },
      "source": [
        ""
      ],
      "execution_count": 0,
      "outputs": []
    },
    {
      "cell_type": "markdown",
      "metadata": {
        "id": "XYlUpu_04UOE",
        "colab_type": "text"
      },
      "source": [
        "# Simulate a strategy \n",
        "\n",
        "Let's simulate, for instance, not insured, 1 driver, 1 vehicle, married"
      ]
    },
    {
      "cell_type": "code",
      "metadata": {
        "id": "6eleGaKG4WFl",
        "colab_type": "code",
        "colab": {
          "base_uri": "https://localhost:8080/",
          "height": 34
        },
        "outputId": "cb026207-026d-409f-d91c-ee51e9c1cb35"
      },
      "source": [
        "# Obtain competitor's probability of ranking higher than us \n",
        "trained_prob['no,1d,1v,m'].data"
      ],
      "execution_count": 20,
      "outputs": [
        {
          "output_type": "execute_result",
          "data": {
            "text/plain": [
              "tensor([0.4200, 0.3853, 0.5383, 0.3366])"
            ]
          },
          "metadata": {
            "tags": []
          },
          "execution_count": 20
        }
      ]
    },
    {
      "cell_type": "markdown",
      "metadata": {
        "id": "EHAHBNt347x5",
        "colab_type": "text"
      },
      "source": [
        "Say their their distributions are uniform with ```span=1```. Then their probabilty of ranking higher than 10 will be $$\\frac{(mean+span)-10}{2\\cdot span} = p,$$ which means that $$\n",
        "mean = 10+2p\\cdot span - span.\n",
        "$$"
      ]
    },
    {
      "cell_type": "code",
      "metadata": {
        "id": "Z42lCiQf4a5d",
        "colab_type": "code",
        "colab": {
          "base_uri": "https://localhost:8080/",
          "height": 87
        },
        "outputId": "117d8697-2059-43fe-a835-9c604c2060c7"
      },
      "source": [
        "competitors = [None]*4\n",
        "probs = trained_prob['no,1d,1v,m'].data.numpy()\n",
        "span=2 \n",
        "for i in range(4): \n",
        "    competitors[i] = InsuranceCompany()\n",
        "    competitors[i].set_param(span=span, \n",
        "                             mean=10+2*probs[i]*span-span)\n",
        "    print('Set up competitor {}, span={}, mean={}'.format(\\\n",
        "            i, competitors[i].param_['span'], competitors[i].param_['mean']))\n",
        "    "
      ],
      "execution_count": 26,
      "outputs": [
        {
          "output_type": "stream",
          "text": [
            "Set up competitor 0, span=2, mean=9.679808139801025\n",
            "Set up competitor 1, span=2, mean=9.541260838508606\n",
            "Set up competitor 2, span=2, mean=10.153361558914185\n",
            "Set up competitor 3, span=2, mean=9.346580505371094\n"
          ],
          "name": "stdout"
        }
      ]
    },
    {
      "cell_type": "markdown",
      "metadata": {
        "id": "CHBZ0PaR69SM",
        "colab_type": "text"
      },
      "source": [
        "If we change our bid to \\$11, what will be the expected payoff? "
      ]
    },
    {
      "cell_type": "code",
      "metadata": {
        "id": "aCiK9F5_-5XC",
        "colab_type": "code",
        "colab": {}
      },
      "source": [
        "env.set_param(P=30)"
      ],
      "execution_count": 0,
      "outputs": []
    },
    {
      "cell_type": "code",
      "metadata": {
        "id": "f1zc2-317o6u",
        "colab_type": "code",
        "colab": {
          "base_uri": "https://localhost:8080/",
          "height": 70
        },
        "outputId": "b3f344f1-7e4e-4472-ea9a-6e9603a9c694"
      },
      "source": [
        "# Check the environment's parameters \n",
        "env.param_"
      ],
      "execution_count": 146,
      "outputs": [
        {
          "output_type": "execute_result",
          "data": {
            "text/plain": [
              "{'P': 30,\n",
              " 'click_prob_': [0.509, 0.215, 0.148, 0.038, 0.02],\n",
              " 'sale_prob_': [0.2866, 0.1179, 0.06329, 0.031847, 0.009482]}"
            ]
          },
          "metadata": {
            "tags": []
          },
          "execution_count": 146
        }
      ]
    },
    {
      "cell_type": "code",
      "metadata": {
        "id": "EKJ5try36OOr",
        "colab_type": "code",
        "colab": {}
      },
      "source": [
        "# Simulate bidding \n",
        "def simulate(our_bid, num_trials=10000): \n",
        "    # Set up parameters \n",
        "    total_rewards = 0 \n",
        "    total_sold = 0 \n",
        "    rank_history = [0]*5 \n",
        "    \n",
        "    # Simulate each trial \n",
        "    for t in range(num_trials):\n",
        "        # Let all competitors bid \n",
        "        bids = [competitors[i].bid() for i in range(4)]\n",
        "        our_rank = env.rank_bid([our_bid]+bids)[0]\n",
        "        this_reward, clicked, sold = env.gen_reward(our_bid, our_rank)\n",
        "        if sold: \n",
        "            total_sold += 1\n",
        "        total_rewards += this_reward\n",
        "        rank_history[our_rank] += 1\n",
        "    return total_rewards, total_sold, rank_history"
      ],
      "execution_count": 0,
      "outputs": []
    },
    {
      "cell_type": "code",
      "metadata": {
        "id": "TAXQjEPI-BGw",
        "colab_type": "code",
        "colab": {
          "base_uri": "https://localhost:8080/",
          "height": 300
        },
        "outputId": "8b96d0d8-341f-4c8b-d25f-53a3b15f8140"
      },
      "source": [
        "our_bid = 11.5\n",
        "num_of_customers_in_category = 746\n",
        "total_rewards, total_sold, rank_history = simulate(our_bid, num_of_customers_in_category)\n",
        "print('Rewards = {}\\nSold = {}'.format(total_rewards, total_sold))\n",
        "f = plt.figure()\n",
        "plt.bar([1,2,3,4,5], rank_history)\n",
        "plt.show()"
      ],
      "execution_count": 155,
      "outputs": [
        {
          "output_type": "stream",
          "text": [
            "Rewards = 1845.0\n",
            "Sold = 188\n"
          ],
          "name": "stdout"
        },
        {
          "output_type": "display_data",
          "data": {
            "image/png": "[encoded data removed]",
            "text/plain": [
              "<Figure size 432x288 with 1 Axes>"
            ]
          },
          "metadata": {
            "tags": [],
            "needs_background": "light"
          }
        }
      ]
    },
    {
      "cell_type": "code",
      "metadata": {
        "id": "8rRZHoDh9Isi",
        "colab_type": "code",
        "colab": {}
      },
      "source": [
        "x"
      ],
      "execution_count": 0,
      "outputs": []
    }
  ]
}