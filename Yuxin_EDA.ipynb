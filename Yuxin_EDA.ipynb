{
  "nbformat": 4,
  "nbformat_minor": 0,
  "metadata": {
    "colab": {
      "name": "EDA.ipynb",
      "provenance": [],
      "collapsed_sections": [],
      "toc_visible": true
    },
    "kernelspec": {
      "name": "python3",
      "display_name": "Python 3"
    }
  },
  "cells": [
    {
      "cell_type": "code",
      "metadata": {
        "id": "wu17QeXyUm3z",
        "colab_type": "code",
        "outputId": "9eb9a7de-8cc3-4e6f-d163-91d620447291",
        "colab": {
          "base_uri": "https://localhost:8080/",
          "height": 72
        }
      },
      "source": [
        "### Import libraries \n",
        "import numpy as np \n",
        "import pandas as pd \n",
        "import seaborn as sns \n",
        "import matplotlib.pyplot as plt \n",
        "from mpl_toolkits.mplot3d import Axes3D\n",
        "import scipy \n",
        "import re\n",
        "import os\n",
        "import sys \n",
        "import matplotlib.dates\n",
        "# import sqlite3\n",
        "# import sqlalchemy\n",
        "\n",
        "# import warnings\n",
        "from datetime import datetime\n",
        "from tabulate import tabulate\n",
        "\n"
      ],
      "execution_count": 1,
      "outputs": [
        {
          "output_type": "stream",
          "text": [
            "/usr/local/lib/python3.6/dist-packages/statsmodels/tools/_testing.py:19: FutureWarning: pandas.util.testing is deprecated. Use the functions in the public API at pandas.testing instead.\n",
            "  import pandas.util.testing as tm\n"
          ],
          "name": "stderr"
        }
      ]
    },
    {
      "cell_type": "code",
      "metadata": {
        "id": "-IsPLKd4Mygp",
        "colab_type": "code",
        "colab": {}
      },
      "source": [
        "%matplotlib inline"
      ],
      "execution_count": 0,
      "outputs": []
    },
    {
      "cell_type": "code",
      "metadata": {
        "id": "_yactCpJU03q",
        "colab_type": "code",
        "colab": {}
      },
      "source": [
        "MY_PATH = \"drive/My Drive/github/erdos_project/\""
      ],
      "execution_count": 0,
      "outputs": []
    },
    {
      "cell_type": "code",
      "metadata": {
        "id": "jISWF3FMU9xM",
        "colab_type": "code",
        "colab": {}
      },
      "source": [
        "# df = pd.read_excel(MY_PATH+\"Acme.xlsx\", index_col=0)\n",
        "df = pd.read_csv(MY_PATH+\"clean.csv\", index_col=0)"
      ],
      "execution_count": 0,
      "outputs": []
    },
    {
      "cell_type": "code",
      "metadata": {
        "id": "48AuhmvQVC5R",
        "colab_type": "code",
        "colab": {}
      },
      "source": [
        "# df['currently_insured'] = df['currently_insured'].replace({'Y':1, 'N':0})\n",
        "# df['married'] = df['marital_status'].replace({'M':1, 'S':0})\n",
        "# df = df.drop(columns=['marital_status', 'cost'])"
      ],
      "execution_count": 0,
      "outputs": []
    },
    {
      "cell_type": "code",
      "metadata": {
        "id": "0f3mkAbZXQls",
        "colab_type": "code",
        "outputId": "0b1ecd25-bcdd-4065-f3d2-5259ef6df551",
        "colab": {
          "base_uri": "https://localhost:8080/",
          "height": 227
        }
      },
      "source": [
        "df.head()"
      ],
      "execution_count": 5,
      "outputs": [
        {
          "output_type": "execute_result",
          "data": {
            "text/html": [
              "<div>\n",
              "<style scoped>\n",
              "    .dataframe tbody tr th:only-of-type {\n",
              "        vertical-align: middle;\n",
              "    }\n",
              "\n",
              "    .dataframe tbody tr th {\n",
              "        vertical-align: top;\n",
              "    }\n",
              "\n",
              "    .dataframe thead th {\n",
              "        text-align: right;\n",
              "    }\n",
              "</style>\n",
              "<table border=\"1\" class=\"dataframe\">\n",
              "  <thead>\n",
              "    <tr style=\"text-align: right;\">\n",
              "      <th></th>\n",
              "      <th>click</th>\n",
              "      <th>currently_insured</th>\n",
              "      <th>number_of_vehicles</th>\n",
              "      <th>number_of_drivers</th>\n",
              "      <th>rank</th>\n",
              "      <th>policies sold</th>\n",
              "      <th>married</th>\n",
              "    </tr>\n",
              "    <tr>\n",
              "      <th>impression_id</th>\n",
              "      <th></th>\n",
              "      <th></th>\n",
              "      <th></th>\n",
              "      <th></th>\n",
              "      <th></th>\n",
              "      <th></th>\n",
              "      <th></th>\n",
              "    </tr>\n",
              "  </thead>\n",
              "  <tbody>\n",
              "    <tr>\n",
              "      <th>1</th>\n",
              "      <td>1</td>\n",
              "      <td>0</td>\n",
              "      <td>1</td>\n",
              "      <td>1</td>\n",
              "      <td>1</td>\n",
              "      <td>1</td>\n",
              "      <td>1</td>\n",
              "    </tr>\n",
              "    <tr>\n",
              "      <th>2</th>\n",
              "      <td>0</td>\n",
              "      <td>0</td>\n",
              "      <td>2</td>\n",
              "      <td>1</td>\n",
              "      <td>4</td>\n",
              "      <td>0</td>\n",
              "      <td>1</td>\n",
              "    </tr>\n",
              "    <tr>\n",
              "      <th>3</th>\n",
              "      <td>0</td>\n",
              "      <td>0</td>\n",
              "      <td>1</td>\n",
              "      <td>1</td>\n",
              "      <td>2</td>\n",
              "      <td>0</td>\n",
              "      <td>0</td>\n",
              "    </tr>\n",
              "    <tr>\n",
              "      <th>4</th>\n",
              "      <td>0</td>\n",
              "      <td>1</td>\n",
              "      <td>2</td>\n",
              "      <td>1</td>\n",
              "      <td>5</td>\n",
              "      <td>0</td>\n",
              "      <td>1</td>\n",
              "    </tr>\n",
              "    <tr>\n",
              "      <th>5</th>\n",
              "      <td>0</td>\n",
              "      <td>1</td>\n",
              "      <td>2</td>\n",
              "      <td>2</td>\n",
              "      <td>4</td>\n",
              "      <td>0</td>\n",
              "      <td>0</td>\n",
              "    </tr>\n",
              "  </tbody>\n",
              "</table>\n",
              "</div>"
            ],
            "text/plain": [
              "               click  currently_insured  ...  policies sold  married\n",
              "impression_id                            ...                        \n",
              "1                  1                  0  ...              1        1\n",
              "2                  0                  0  ...              0        1\n",
              "3                  0                  0  ...              0        0\n",
              "4                  0                  1  ...              0        1\n",
              "5                  0                  1  ...              0        0\n",
              "\n",
              "[5 rows x 7 columns]"
            ]
          },
          "metadata": {
            "tags": []
          },
          "execution_count": 5
        }
      ]
    },
    {
      "cell_type": "code",
      "metadata": {
        "id": "Rt-X2bQ4VIVb",
        "colab_type": "code",
        "outputId": "6ad9d84d-90c9-42e1-a170-6210610f8e32",
        "colab": {
          "base_uri": "https://localhost:8080/",
          "height": 34
        }
      },
      "source": [
        "print(df.number_of_drivers.unique(),df.number_of_vehicles.unique())"
      ],
      "execution_count": 0,
      "outputs": [
        {
          "output_type": "stream",
          "text": [
            "[1 2] [1 2]\n"
          ],
          "name": "stdout"
        }
      ]
    },
    {
      "cell_type": "code",
      "metadata": {
        "id": "dZdq7xS6XgdE",
        "colab_type": "code",
        "colab": {}
      },
      "source": [
        "g1 = df[['currently_insured','number_of_drivers','number_of_vehicles','rank']]\\\n",
        "    .groupby(['currently_insured','number_of_drivers','number_of_vehicles','rank'])\\\n",
        "    .size().unstack(fill_value=0)\n",
        "g2 = df[['currently_insured','number_of_drivers','number_of_vehicles']]\\\n",
        "    .groupby(['currently_insured','number_of_drivers','number_of_vehicles']).size()\n",
        "rename_dict = {0:'TotalNum'}\n",
        "for r in range(1,6): \n",
        "  rename_dict[r] = 'Rank'+str(r)\n",
        "df_rank_sum = pd.concat([g1,g2], axis=1).rename(columns=rename_dict)"
      ],
      "execution_count": 0,
      "outputs": []
    },
    {
      "cell_type": "code",
      "metadata": {
        "id": "tLmXM1Cuz8eS",
        "colab_type": "code",
        "outputId": "e3610e3a-8af7-4468-8a3f-748ae1f6e096",
        "colab": {
          "base_uri": "https://localhost:8080/",
          "height": 317
        }
      },
      "source": [
        "df_rank_sum"
      ],
      "execution_count": 28,
      "outputs": [
        {
          "output_type": "execute_result",
          "data": {
            "text/html": [
              "<div>\n",
              "<style scoped>\n",
              "    .dataframe tbody tr th:only-of-type {\n",
              "        vertical-align: middle;\n",
              "    }\n",
              "\n",
              "    .dataframe tbody tr th {\n",
              "        vertical-align: top;\n",
              "    }\n",
              "\n",
              "    .dataframe thead th {\n",
              "        text-align: right;\n",
              "    }\n",
              "</style>\n",
              "<table border=\"1\" class=\"dataframe\">\n",
              "  <thead>\n",
              "    <tr style=\"text-align: right;\">\n",
              "      <th></th>\n",
              "      <th></th>\n",
              "      <th></th>\n",
              "      <th>Rank1</th>\n",
              "      <th>Rank2</th>\n",
              "      <th>Rank3</th>\n",
              "      <th>Rank4</th>\n",
              "      <th>Rank5</th>\n",
              "      <th>TotalNum</th>\n",
              "    </tr>\n",
              "    <tr>\n",
              "      <th>currently_insured</th>\n",
              "      <th>number_of_drivers</th>\n",
              "      <th>number_of_vehicles</th>\n",
              "      <th></th>\n",
              "      <th></th>\n",
              "      <th></th>\n",
              "      <th></th>\n",
              "      <th></th>\n",
              "      <th></th>\n",
              "    </tr>\n",
              "  </thead>\n",
              "  <tbody>\n",
              "    <tr>\n",
              "      <th rowspan=\"4\" valign=\"top\">0</th>\n",
              "      <th rowspan=\"2\" valign=\"top\">1</th>\n",
              "      <th>1</th>\n",
              "      <td>164</td>\n",
              "      <td>205</td>\n",
              "      <td>247</td>\n",
              "      <td>169</td>\n",
              "      <td>0</td>\n",
              "      <td>785</td>\n",
              "    </tr>\n",
              "    <tr>\n",
              "      <th>2</th>\n",
              "      <td>0</td>\n",
              "      <td>0</td>\n",
              "      <td>391</td>\n",
              "      <td>667</td>\n",
              "      <td>1066</td>\n",
              "      <td>2124</td>\n",
              "    </tr>\n",
              "    <tr>\n",
              "      <th rowspan=\"2\" valign=\"top\">2</th>\n",
              "      <th>1</th>\n",
              "      <td>593</td>\n",
              "      <td>335</td>\n",
              "      <td>250</td>\n",
              "      <td>0</td>\n",
              "      <td>0</td>\n",
              "      <td>1178</td>\n",
              "    </tr>\n",
              "    <tr>\n",
              "      <th>2</th>\n",
              "      <td>0</td>\n",
              "      <td>190</td>\n",
              "      <td>290</td>\n",
              "      <td>256</td>\n",
              "      <td>185</td>\n",
              "      <td>921</td>\n",
              "    </tr>\n",
              "    <tr>\n",
              "      <th rowspan=\"4\" valign=\"top\">1</th>\n",
              "      <th rowspan=\"2\" valign=\"top\">1</th>\n",
              "      <th>1</th>\n",
              "      <td>165</td>\n",
              "      <td>212</td>\n",
              "      <td>230</td>\n",
              "      <td>166</td>\n",
              "      <td>0</td>\n",
              "      <td>773</td>\n",
              "    </tr>\n",
              "    <tr>\n",
              "      <th>2</th>\n",
              "      <td>0</td>\n",
              "      <td>0</td>\n",
              "      <td>422</td>\n",
              "      <td>633</td>\n",
              "      <td>1094</td>\n",
              "      <td>2149</td>\n",
              "    </tr>\n",
              "    <tr>\n",
              "      <th rowspan=\"2\" valign=\"top\">2</th>\n",
              "      <th>1</th>\n",
              "      <td>210</td>\n",
              "      <td>342</td>\n",
              "      <td>377</td>\n",
              "      <td>252</td>\n",
              "      <td>0</td>\n",
              "      <td>1181</td>\n",
              "    </tr>\n",
              "    <tr>\n",
              "      <th>2</th>\n",
              "      <td>0</td>\n",
              "      <td>156</td>\n",
              "      <td>263</td>\n",
              "      <td>284</td>\n",
              "      <td>186</td>\n",
              "      <td>889</td>\n",
              "    </tr>\n",
              "  </tbody>\n",
              "</table>\n",
              "</div>"
            ],
            "text/plain": [
              "                                                        Rank1  ...  TotalNum\n",
              "currently_insured number_of_drivers number_of_vehicles         ...          \n",
              "0                 1                 1                     164  ...       785\n",
              "                                    2                       0  ...      2124\n",
              "                  2                 1                     593  ...      1178\n",
              "                                    2                       0  ...       921\n",
              "1                 1                 1                     165  ...       773\n",
              "                                    2                       0  ...      2149\n",
              "                  2                 1                     210  ...      1181\n",
              "                                    2                       0  ...       889\n",
              "\n",
              "[8 rows x 6 columns]"
            ]
          },
          "metadata": {
            "tags": []
          },
          "execution_count": 28
        }
      ]
    },
    {
      "cell_type": "code",
      "metadata": {
        "id": "7Z15UJE5LBAP",
        "colab_type": "code",
        "outputId": "df45464f-5c2b-4180-cf08-1691b7d1ed84",
        "colab": {
          "base_uri": "https://localhost:8080/",
          "height": 248
        }
      },
      "source": [
        "# Visualize 3d clusters \n",
        "\n",
        "fig = plt.figure()\n",
        "ax = fig.add_subplot(111, projection='3d')\n",
        "RAND_RANGE = .2\n",
        "x = np.array(df['currently_insured'])+np.random.uniform(0,RAND_RANGE,10000)\n",
        "y = np.array(df['rank'])+np.random.uniform(0,RAND_RANGE,10000)\n",
        "z = np.array(df['click'])+np.random.uniform(0,RAND_RANGE,10000)\n",
        "\n",
        "ax.scatter(x, y, z, c=df['married'], marker='*')\n",
        "ax.set_xlabel('Current insured')\n",
        "ax.set_ylabel('Rank')\n",
        "ax.set_zlabel('Clicked')\n",
        "\n",
        "plt.show()"
      ],
      "execution_count": 0,
      "outputs": [
        {
          "output_type": "display_data",
          "data": {
            "image/png": "[encoded data removed]",
            "text/plain": [
              "<Figure size 432x288 with 1 Axes>"
            ]
          },
          "metadata": {
            "tags": [],
            "needs_background": "light"
          }
        }
      ]
    },
    {
      "cell_type": "markdown",
      "metadata": {
        "id": "cUE4LqdV-aa_",
        "colab_type": "text"
      },
      "source": [
        "From here, we see that we are doing signigicantly worse in the category with ```currently_insured==1, number_of_drivers==2, number_of_vehicles==1```.\n",
        "Question: is this category profitable? "
      ]
    },
    {
      "cell_type": "markdown",
      "metadata": {
        "id": "Pr5yIhjS-7KQ",
        "colab_type": "text"
      },
      "source": [
        "## Question: Does probability of clicking depend on viewer's insurance status, num_of_drivers, num_of_vehicles?"
      ]
    },
    {
      "cell_type": "code",
      "metadata": {
        "id": "1PKcuCXyyZ2g",
        "colab_type": "code",
        "outputId": "9c11c871-23ad-4fc3-dc2e-f6406a16fdf9",
        "colab": {
          "base_uri": "https://localhost:8080/",
          "height": 328
        }
      },
      "source": [
        "df[['currently_insured','number_of_drivers','number_of_vehicles','click']].groupby(['currently_insured','number_of_drivers','number_of_vehicles']).mean()"
      ],
      "execution_count": 0,
      "outputs": [
        {
          "output_type": "execute_result",
          "data": {
            "text/html": [
              "<div>\n",
              "<style scoped>\n",
              "    .dataframe tbody tr th:only-of-type {\n",
              "        vertical-align: middle;\n",
              "    }\n",
              "\n",
              "    .dataframe tbody tr th {\n",
              "        vertical-align: top;\n",
              "    }\n",
              "\n",
              "    .dataframe thead th {\n",
              "        text-align: right;\n",
              "    }\n",
              "</style>\n",
              "<table border=\"1\" class=\"dataframe\">\n",
              "  <thead>\n",
              "    <tr style=\"text-align: right;\">\n",
              "      <th></th>\n",
              "      <th></th>\n",
              "      <th></th>\n",
              "      <th>click</th>\n",
              "    </tr>\n",
              "    <tr>\n",
              "      <th>currently_insured</th>\n",
              "      <th>number_of_drivers</th>\n",
              "      <th>number_of_vehicles</th>\n",
              "      <th></th>\n",
              "    </tr>\n",
              "  </thead>\n",
              "  <tbody>\n",
              "    <tr>\n",
              "      <th rowspan=\"4\" valign=\"top\">0</th>\n",
              "      <th rowspan=\"2\" valign=\"top\">1</th>\n",
              "      <th>1</th>\n",
              "      <td>0.216561</td>\n",
              "    </tr>\n",
              "    <tr>\n",
              "      <th>2</th>\n",
              "      <td>0.053202</td>\n",
              "    </tr>\n",
              "    <tr>\n",
              "      <th rowspan=\"2\" valign=\"top\">2</th>\n",
              "      <th>1</th>\n",
              "      <td>0.333616</td>\n",
              "    </tr>\n",
              "    <tr>\n",
              "      <th>2</th>\n",
              "      <td>0.090119</td>\n",
              "    </tr>\n",
              "    <tr>\n",
              "      <th rowspan=\"4\" valign=\"top\">1</th>\n",
              "      <th rowspan=\"2\" valign=\"top\">1</th>\n",
              "      <th>1</th>\n",
              "      <td>0.203105</td>\n",
              "    </tr>\n",
              "    <tr>\n",
              "      <th>2</th>\n",
              "      <td>0.054909</td>\n",
              "    </tr>\n",
              "    <tr>\n",
              "      <th rowspan=\"2\" valign=\"top\">2</th>\n",
              "      <th>1</th>\n",
              "      <td>0.216765</td>\n",
              "    </tr>\n",
              "    <tr>\n",
              "      <th>2</th>\n",
              "      <td>0.094488</td>\n",
              "    </tr>\n",
              "  </tbody>\n",
              "</table>\n",
              "</div>"
            ],
            "text/plain": [
              "                                                           click\n",
              "currently_insured number_of_drivers number_of_vehicles          \n",
              "0                 1                 1                   0.216561\n",
              "                                    2                   0.053202\n",
              "                  2                 1                   0.333616\n",
              "                                    2                   0.090119\n",
              "1                 1                 1                   0.203105\n",
              "                                    2                   0.054909\n",
              "                  2                 1                   0.216765\n",
              "                                    2                   0.094488"
            ]
          },
          "metadata": {
            "tags": []
          },
          "execution_count": 29
        }
      ]
    },
    {
      "cell_type": "markdown",
      "metadata": {
        "id": "fgUisythOn2j",
        "colab_type": "text"
      },
      "source": [
        "It appears that people with only 1 vehicle is more likely to click on our ad. Let's test this hypothesis controlling for rank etc. "
      ]
    },
    {
      "cell_type": "code",
      "metadata": {
        "id": "bSqVKklNPYOt",
        "colab_type": "code",
        "outputId": "4523efb5-05b4-44e8-eb24-5d06e8e3feb9",
        "colab": {
          "base_uri": "https://localhost:8080/",
          "height": 102
        }
      },
      "source": [
        "for r in range(1,6): \n",
        "  d0 = df[(df['rank']==r) & (df['number_of_vehicles']==1)]['click']\n",
        "  d1 = df[(df['rank']==r) & (df['number_of_vehicles']==2)]['click']\n",
        "  t_test_result = scipy.stats.ttest_ind(d0,d1, equal_var = False)\n",
        "  t_stat = t_test_result[0]\n",
        "  p_val = t_test_result[1]\n",
        "  print(\"When we rank {}, p val is {}.\".format(r,p_val))"
      ],
      "execution_count": 0,
      "outputs": [
        {
          "output_type": "stream",
          "text": [
            "When we rank 1, p val is nan.\n",
            "When we rank 2, p val is 0.8542085992341869.\n",
            "When we rank 3, p val is 0.6834419198349218.\n",
            "When we rank 4, p val is 0.5180143827757095.\n",
            "When we rank 5, p val is nan.\n"
          ],
          "name": "stdout"
        }
      ]
    },
    {
      "cell_type": "code",
      "metadata": {
        "id": "n99Pmd5C3iSr",
        "colab_type": "code",
        "colab": {
          "base_uri": "https://localhost:8080/",
          "height": 827
        },
        "outputId": "a4039a9c-2a7d-4f9d-ef72-43e5bc7b3d91"
      },
      "source": [
        "df.loc[(df['married']==0) & (df['number_of_drivers']==2) & (df['number_of_vehicles']==2) & (df['policies sold']==1)]"
      ],
      "execution_count": 36,
      "outputs": [
        {
          "output_type": "execute_result",
          "data": {
            "text/html": [
              "<div>\n",
              "<style scoped>\n",
              "    .dataframe tbody tr th:only-of-type {\n",
              "        vertical-align: middle;\n",
              "    }\n",
              "\n",
              "    .dataframe tbody tr th {\n",
              "        vertical-align: top;\n",
              "    }\n",
              "\n",
              "    .dataframe thead th {\n",
              "        text-align: right;\n",
              "    }\n",
              "</style>\n",
              "<table border=\"1\" class=\"dataframe\">\n",
              "  <thead>\n",
              "    <tr style=\"text-align: right;\">\n",
              "      <th></th>\n",
              "      <th>click</th>\n",
              "      <th>currently_insured</th>\n",
              "      <th>number_of_vehicles</th>\n",
              "      <th>number_of_drivers</th>\n",
              "      <th>rank</th>\n",
              "      <th>policies sold</th>\n",
              "      <th>married</th>\n",
              "    </tr>\n",
              "    <tr>\n",
              "      <th>impression_id</th>\n",
              "      <th></th>\n",
              "      <th></th>\n",
              "      <th></th>\n",
              "      <th></th>\n",
              "      <th></th>\n",
              "      <th></th>\n",
              "      <th></th>\n",
              "    </tr>\n",
              "  </thead>\n",
              "  <tbody>\n",
              "    <tr>\n",
              "      <th>373</th>\n",
              "      <td>1</td>\n",
              "      <td>0</td>\n",
              "      <td>2</td>\n",
              "      <td>2</td>\n",
              "      <td>4</td>\n",
              "      <td>1</td>\n",
              "      <td>0</td>\n",
              "    </tr>\n",
              "    <tr>\n",
              "      <th>407</th>\n",
              "      <td>1</td>\n",
              "      <td>0</td>\n",
              "      <td>2</td>\n",
              "      <td>2</td>\n",
              "      <td>2</td>\n",
              "      <td>1</td>\n",
              "      <td>0</td>\n",
              "    </tr>\n",
              "    <tr>\n",
              "      <th>1542</th>\n",
              "      <td>1</td>\n",
              "      <td>0</td>\n",
              "      <td>2</td>\n",
              "      <td>2</td>\n",
              "      <td>3</td>\n",
              "      <td>1</td>\n",
              "      <td>0</td>\n",
              "    </tr>\n",
              "    <tr>\n",
              "      <th>1771</th>\n",
              "      <td>1</td>\n",
              "      <td>1</td>\n",
              "      <td>2</td>\n",
              "      <td>2</td>\n",
              "      <td>4</td>\n",
              "      <td>1</td>\n",
              "      <td>0</td>\n",
              "    </tr>\n",
              "    <tr>\n",
              "      <th>2139</th>\n",
              "      <td>1</td>\n",
              "      <td>0</td>\n",
              "      <td>2</td>\n",
              "      <td>2</td>\n",
              "      <td>5</td>\n",
              "      <td>1</td>\n",
              "      <td>0</td>\n",
              "    </tr>\n",
              "    <tr>\n",
              "      <th>3058</th>\n",
              "      <td>1</td>\n",
              "      <td>0</td>\n",
              "      <td>2</td>\n",
              "      <td>2</td>\n",
              "      <td>2</td>\n",
              "      <td>1</td>\n",
              "      <td>0</td>\n",
              "    </tr>\n",
              "    <tr>\n",
              "      <th>3213</th>\n",
              "      <td>1</td>\n",
              "      <td>0</td>\n",
              "      <td>2</td>\n",
              "      <td>2</td>\n",
              "      <td>3</td>\n",
              "      <td>1</td>\n",
              "      <td>0</td>\n",
              "    </tr>\n",
              "    <tr>\n",
              "      <th>3432</th>\n",
              "      <td>1</td>\n",
              "      <td>1</td>\n",
              "      <td>2</td>\n",
              "      <td>2</td>\n",
              "      <td>3</td>\n",
              "      <td>1</td>\n",
              "      <td>0</td>\n",
              "    </tr>\n",
              "    <tr>\n",
              "      <th>3837</th>\n",
              "      <td>1</td>\n",
              "      <td>1</td>\n",
              "      <td>2</td>\n",
              "      <td>2</td>\n",
              "      <td>2</td>\n",
              "      <td>1</td>\n",
              "      <td>0</td>\n",
              "    </tr>\n",
              "    <tr>\n",
              "      <th>4411</th>\n",
              "      <td>1</td>\n",
              "      <td>1</td>\n",
              "      <td>2</td>\n",
              "      <td>2</td>\n",
              "      <td>2</td>\n",
              "      <td>1</td>\n",
              "      <td>0</td>\n",
              "    </tr>\n",
              "    <tr>\n",
              "      <th>5161</th>\n",
              "      <td>1</td>\n",
              "      <td>0</td>\n",
              "      <td>2</td>\n",
              "      <td>2</td>\n",
              "      <td>2</td>\n",
              "      <td>1</td>\n",
              "      <td>0</td>\n",
              "    </tr>\n",
              "    <tr>\n",
              "      <th>5879</th>\n",
              "      <td>1</td>\n",
              "      <td>1</td>\n",
              "      <td>2</td>\n",
              "      <td>2</td>\n",
              "      <td>3</td>\n",
              "      <td>1</td>\n",
              "      <td>0</td>\n",
              "    </tr>\n",
              "    <tr>\n",
              "      <th>6322</th>\n",
              "      <td>1</td>\n",
              "      <td>0</td>\n",
              "      <td>2</td>\n",
              "      <td>2</td>\n",
              "      <td>2</td>\n",
              "      <td>1</td>\n",
              "      <td>0</td>\n",
              "    </tr>\n",
              "    <tr>\n",
              "      <th>6440</th>\n",
              "      <td>1</td>\n",
              "      <td>0</td>\n",
              "      <td>2</td>\n",
              "      <td>2</td>\n",
              "      <td>3</td>\n",
              "      <td>1</td>\n",
              "      <td>0</td>\n",
              "    </tr>\n",
              "    <tr>\n",
              "      <th>6489</th>\n",
              "      <td>1</td>\n",
              "      <td>1</td>\n",
              "      <td>2</td>\n",
              "      <td>2</td>\n",
              "      <td>3</td>\n",
              "      <td>1</td>\n",
              "      <td>0</td>\n",
              "    </tr>\n",
              "    <tr>\n",
              "      <th>6550</th>\n",
              "      <td>1</td>\n",
              "      <td>0</td>\n",
              "      <td>2</td>\n",
              "      <td>2</td>\n",
              "      <td>2</td>\n",
              "      <td>1</td>\n",
              "      <td>0</td>\n",
              "    </tr>\n",
              "    <tr>\n",
              "      <th>6594</th>\n",
              "      <td>1</td>\n",
              "      <td>0</td>\n",
              "      <td>2</td>\n",
              "      <td>2</td>\n",
              "      <td>2</td>\n",
              "      <td>1</td>\n",
              "      <td>0</td>\n",
              "    </tr>\n",
              "    <tr>\n",
              "      <th>6733</th>\n",
              "      <td>1</td>\n",
              "      <td>0</td>\n",
              "      <td>2</td>\n",
              "      <td>2</td>\n",
              "      <td>3</td>\n",
              "      <td>1</td>\n",
              "      <td>0</td>\n",
              "    </tr>\n",
              "    <tr>\n",
              "      <th>6775</th>\n",
              "      <td>1</td>\n",
              "      <td>0</td>\n",
              "      <td>2</td>\n",
              "      <td>2</td>\n",
              "      <td>3</td>\n",
              "      <td>1</td>\n",
              "      <td>0</td>\n",
              "    </tr>\n",
              "    <tr>\n",
              "      <th>7025</th>\n",
              "      <td>1</td>\n",
              "      <td>1</td>\n",
              "      <td>2</td>\n",
              "      <td>2</td>\n",
              "      <td>3</td>\n",
              "      <td>1</td>\n",
              "      <td>0</td>\n",
              "    </tr>\n",
              "    <tr>\n",
              "      <th>7544</th>\n",
              "      <td>1</td>\n",
              "      <td>0</td>\n",
              "      <td>2</td>\n",
              "      <td>2</td>\n",
              "      <td>3</td>\n",
              "      <td>1</td>\n",
              "      <td>0</td>\n",
              "    </tr>\n",
              "    <tr>\n",
              "      <th>7609</th>\n",
              "      <td>1</td>\n",
              "      <td>1</td>\n",
              "      <td>2</td>\n",
              "      <td>2</td>\n",
              "      <td>2</td>\n",
              "      <td>1</td>\n",
              "      <td>0</td>\n",
              "    </tr>\n",
              "    <tr>\n",
              "      <th>7834</th>\n",
              "      <td>1</td>\n",
              "      <td>1</td>\n",
              "      <td>2</td>\n",
              "      <td>2</td>\n",
              "      <td>4</td>\n",
              "      <td>1</td>\n",
              "      <td>0</td>\n",
              "    </tr>\n",
              "    <tr>\n",
              "      <th>8186</th>\n",
              "      <td>1</td>\n",
              "      <td>0</td>\n",
              "      <td>2</td>\n",
              "      <td>2</td>\n",
              "      <td>2</td>\n",
              "      <td>1</td>\n",
              "      <td>0</td>\n",
              "    </tr>\n",
              "    <tr>\n",
              "      <th>9590</th>\n",
              "      <td>1</td>\n",
              "      <td>0</td>\n",
              "      <td>2</td>\n",
              "      <td>2</td>\n",
              "      <td>4</td>\n",
              "      <td>1</td>\n",
              "      <td>0</td>\n",
              "    </tr>\n",
              "  </tbody>\n",
              "</table>\n",
              "</div>"
            ],
            "text/plain": [
              "               click  currently_insured  ...  policies sold  married\n",
              "impression_id                            ...                        \n",
              "373                1                  0  ...              1        0\n",
              "407                1                  0  ...              1        0\n",
              "1542               1                  0  ...              1        0\n",
              "1771               1                  1  ...              1        0\n",
              "2139               1                  0  ...              1        0\n",
              "3058               1                  0  ...              1        0\n",
              "3213               1                  0  ...              1        0\n",
              "3432               1                  1  ...              1        0\n",
              "3837               1                  1  ...              1        0\n",
              "4411               1                  1  ...              1        0\n",
              "5161               1                  0  ...              1        0\n",
              "5879               1                  1  ...              1        0\n",
              "6322               1                  0  ...              1        0\n",
              "6440               1                  0  ...              1        0\n",
              "6489               1                  1  ...              1        0\n",
              "6550               1                  0  ...              1        0\n",
              "6594               1                  0  ...              1        0\n",
              "6733               1                  0  ...              1        0\n",
              "6775               1                  0  ...              1        0\n",
              "7025               1                  1  ...              1        0\n",
              "7544               1                  0  ...              1        0\n",
              "7609               1                  1  ...              1        0\n",
              "7834               1                  1  ...              1        0\n",
              "8186               1                  0  ...              1        0\n",
              "9590               1                  0  ...              1        0\n",
              "\n",
              "[25 rows x 7 columns]"
            ]
          },
          "metadata": {
            "tags": []
          },
          "execution_count": 36
        }
      ]
    },
    {
      "cell_type": "markdown",
      "metadata": {
        "id": "fjmZsYxnP_2M",
        "colab_type": "text"
      },
      "source": [
        "Interesting, we got some nan. Apparently the difference is due to our rank, rather than how many cars a person owns. "
      ]
    },
    {
      "cell_type": "code",
      "metadata": {
        "id": "3evsiFbPQc7A",
        "colab_type": "code",
        "colab": {}
      },
      "source": [
        "g1 = df.groupby(['rank','currently_insured','number_of_drivers','number_of_vehicles','married']).mean()\n",
        "g2 = df.groupby(['rank','currently_insured','number_of_drivers','number_of_vehicles','married']).size()#.unstack(fill_value=0)\n",
        "# g2 = df[['currently_insured','number_of_drivers','number_of_vehicles','married']]\\\n",
        "#     .groupby(['currently_insured','number_of_drivers','number_of_vehicles']).size()\n",
        "# rename_dict = {0:'TotalNum'}\n",
        "# for r in range(1,6): \n",
        "#   rename_dict[r] = 'Rank'+str(r)\n",
        "# df_rank_sum = pd.concat([g1,g2], axis=1).rename(columns=rename_dict)"
      ],
      "execution_count": 0,
      "outputs": []
    },
    {
      "cell_type": "code",
      "metadata": {
        "id": "MvGlPJlwQs4H",
        "colab_type": "code",
        "outputId": "6487ea1a-78ce-4f46-87e5-472af56d2801",
        "colab": {
          "base_uri": "https://localhost:8080/",
          "height": 1000
        }
      },
      "source": [
        "pd.concat([g1,g2], axis=1)"
      ],
      "execution_count": 0,
      "outputs": [
        {
          "output_type": "execute_result",
          "data": {
            "text/html": [
              "<div>\n",
              "<style scoped>\n",
              "    .dataframe tbody tr th:only-of-type {\n",
              "        vertical-align: middle;\n",
              "    }\n",
              "\n",
              "    .dataframe tbody tr th {\n",
              "        vertical-align: top;\n",
              "    }\n",
              "\n",
              "    .dataframe thead th {\n",
              "        text-align: right;\n",
              "    }\n",
              "</style>\n",
              "<table border=\"1\" class=\"dataframe\">\n",
              "  <thead>\n",
              "    <tr style=\"text-align: right;\">\n",
              "      <th></th>\n",
              "      <th></th>\n",
              "      <th></th>\n",
              "      <th></th>\n",
              "      <th></th>\n",
              "      <th>click</th>\n",
              "      <th>policies sold</th>\n",
              "      <th>0</th>\n",
              "    </tr>\n",
              "    <tr>\n",
              "      <th>rank</th>\n",
              "      <th>currently_insured</th>\n",
              "      <th>number_of_drivers</th>\n",
              "      <th>number_of_vehicles</th>\n",
              "      <th>married</th>\n",
              "      <th></th>\n",
              "      <th></th>\n",
              "      <th></th>\n",
              "    </tr>\n",
              "  </thead>\n",
              "  <tbody>\n",
              "    <tr>\n",
              "      <th rowspan=\"8\" valign=\"top\">1</th>\n",
              "      <th rowspan=\"4\" valign=\"top\">0</th>\n",
              "      <th rowspan=\"2\" valign=\"top\">1</th>\n",
              "      <th rowspan=\"2\" valign=\"top\">1</th>\n",
              "      <th>0</th>\n",
              "      <td>0.571429</td>\n",
              "      <td>0.285714</td>\n",
              "      <td>7</td>\n",
              "    </tr>\n",
              "    <tr>\n",
              "      <th>1</th>\n",
              "      <td>0.509554</td>\n",
              "      <td>0.286624</td>\n",
              "      <td>157</td>\n",
              "    </tr>\n",
              "    <tr>\n",
              "      <th rowspan=\"2\" valign=\"top\">2</th>\n",
              "      <th rowspan=\"2\" valign=\"top\">1</th>\n",
              "      <th>0</th>\n",
              "      <td>0.514184</td>\n",
              "      <td>0.269504</td>\n",
              "      <td>282</td>\n",
              "    </tr>\n",
              "    <tr>\n",
              "      <th>1</th>\n",
              "      <td>0.488746</td>\n",
              "      <td>0.225080</td>\n",
              "      <td>311</td>\n",
              "    </tr>\n",
              "    <tr>\n",
              "      <th rowspan=\"4\" valign=\"top\">1</th>\n",
              "      <th rowspan=\"2\" valign=\"top\">1</th>\n",
              "      <th rowspan=\"2\" valign=\"top\">1</th>\n",
              "      <th>0</th>\n",
              "      <td>0.636364</td>\n",
              "      <td>0.363636</td>\n",
              "      <td>11</td>\n",
              "    </tr>\n",
              "    <tr>\n",
              "      <th>1</th>\n",
              "      <td>0.500000</td>\n",
              "      <td>0.220779</td>\n",
              "      <td>154</td>\n",
              "    </tr>\n",
              "    <tr>\n",
              "      <th rowspan=\"2\" valign=\"top\">2</th>\n",
              "      <th rowspan=\"2\" valign=\"top\">1</th>\n",
              "      <th>0</th>\n",
              "      <td>0.523364</td>\n",
              "      <td>0.149533</td>\n",
              "      <td>107</td>\n",
              "    </tr>\n",
              "    <tr>\n",
              "      <th>1</th>\n",
              "      <td>0.582524</td>\n",
              "      <td>0.126214</td>\n",
              "      <td>103</td>\n",
              "    </tr>\n",
              "    <tr>\n",
              "      <th rowspan=\"12\" valign=\"top\">2</th>\n",
              "      <th rowspan=\"6\" valign=\"top\">0</th>\n",
              "      <th rowspan=\"2\" valign=\"top\">1</th>\n",
              "      <th rowspan=\"2\" valign=\"top\">1</th>\n",
              "      <th>0</th>\n",
              "      <td>0.200000</td>\n",
              "      <td>0.200000</td>\n",
              "      <td>10</td>\n",
              "    </tr>\n",
              "    <tr>\n",
              "      <th>1</th>\n",
              "      <td>0.215385</td>\n",
              "      <td>0.117949</td>\n",
              "      <td>195</td>\n",
              "    </tr>\n",
              "    <tr>\n",
              "      <th rowspan=\"4\" valign=\"top\">2</th>\n",
              "      <th rowspan=\"2\" valign=\"top\">1</th>\n",
              "      <th>0</th>\n",
              "      <td>0.206897</td>\n",
              "      <td>0.109195</td>\n",
              "      <td>174</td>\n",
              "    </tr>\n",
              "    <tr>\n",
              "      <th>1</th>\n",
              "      <td>0.161491</td>\n",
              "      <td>0.074534</td>\n",
              "      <td>161</td>\n",
              "    </tr>\n",
              "    <tr>\n",
              "      <th rowspan=\"2\" valign=\"top\">2</th>\n",
              "      <th>0</th>\n",
              "      <td>0.175258</td>\n",
              "      <td>0.072165</td>\n",
              "      <td>97</td>\n",
              "    </tr>\n",
              "    <tr>\n",
              "      <th>1</th>\n",
              "      <td>0.193548</td>\n",
              "      <td>0.075269</td>\n",
              "      <td>93</td>\n",
              "    </tr>\n",
              "    <tr>\n",
              "      <th rowspan=\"6\" valign=\"top\">1</th>\n",
              "      <th rowspan=\"2\" valign=\"top\">1</th>\n",
              "      <th rowspan=\"2\" valign=\"top\">1</th>\n",
              "      <th>0</th>\n",
              "      <td>0.250000</td>\n",
              "      <td>0.250000</td>\n",
              "      <td>8</td>\n",
              "    </tr>\n",
              "    <tr>\n",
              "      <th>1</th>\n",
              "      <td>0.137255</td>\n",
              "      <td>0.044118</td>\n",
              "      <td>204</td>\n",
              "    </tr>\n",
              "    <tr>\n",
              "      <th rowspan=\"4\" valign=\"top\">2</th>\n",
              "      <th rowspan=\"2\" valign=\"top\">1</th>\n",
              "      <th>0</th>\n",
              "      <td>0.189944</td>\n",
              "      <td>0.050279</td>\n",
              "      <td>179</td>\n",
              "    </tr>\n",
              "    <tr>\n",
              "      <th>1</th>\n",
              "      <td>0.208589</td>\n",
              "      <td>0.036810</td>\n",
              "      <td>163</td>\n",
              "    </tr>\n",
              "    <tr>\n",
              "      <th rowspan=\"2\" valign=\"top\">2</th>\n",
              "      <th>0</th>\n",
              "      <td>0.137931</td>\n",
              "      <td>0.034483</td>\n",
              "      <td>87</td>\n",
              "    </tr>\n",
              "    <tr>\n",
              "      <th>1</th>\n",
              "      <td>0.231884</td>\n",
              "      <td>0.028986</td>\n",
              "      <td>69</td>\n",
              "    </tr>\n",
              "    <tr>\n",
              "      <th rowspan=\"16\" valign=\"top\">3</th>\n",
              "      <th rowspan=\"8\" valign=\"top\">0</th>\n",
              "      <th rowspan=\"4\" valign=\"top\">1</th>\n",
              "      <th rowspan=\"2\" valign=\"top\">1</th>\n",
              "      <th>0</th>\n",
              "      <td>0.100000</td>\n",
              "      <td>0.000000</td>\n",
              "      <td>10</td>\n",
              "    </tr>\n",
              "    <tr>\n",
              "      <th>1</th>\n",
              "      <td>0.147679</td>\n",
              "      <td>0.063291</td>\n",
              "      <td>237</td>\n",
              "    </tr>\n",
              "    <tr>\n",
              "      <th rowspan=\"2\" valign=\"top\">2</th>\n",
              "      <th>0</th>\n",
              "      <td>0.047619</td>\n",
              "      <td>0.047619</td>\n",
              "      <td>21</td>\n",
              "    </tr>\n",
              "    <tr>\n",
              "      <th>1</th>\n",
              "      <td>0.167568</td>\n",
              "      <td>0.081081</td>\n",
              "      <td>370</td>\n",
              "    </tr>\n",
              "    <tr>\n",
              "      <th rowspan=\"4\" valign=\"top\">2</th>\n",
              "      <th rowspan=\"2\" valign=\"top\">1</th>\n",
              "      <th>0</th>\n",
              "      <td>0.194690</td>\n",
              "      <td>0.088496</td>\n",
              "      <td>113</td>\n",
              "    </tr>\n",
              "    <tr>\n",
              "      <th>1</th>\n",
              "      <td>0.087591</td>\n",
              "      <td>0.014599</td>\n",
              "      <td>137</td>\n",
              "    </tr>\n",
              "    <tr>\n",
              "      <th rowspan=\"2\" valign=\"top\">2</th>\n",
              "      <th>0</th>\n",
              "      <td>0.125000</td>\n",
              "      <td>0.037500</td>\n",
              "      <td>160</td>\n",
              "    </tr>\n",
              "    <tr>\n",
              "      <th>1</th>\n",
              "      <td>0.123077</td>\n",
              "      <td>0.038462</td>\n",
              "      <td>130</td>\n",
              "    </tr>\n",
              "    <tr>\n",
              "      <th rowspan=\"8\" valign=\"top\">1</th>\n",
              "      <th rowspan=\"4\" valign=\"top\">1</th>\n",
              "      <th rowspan=\"2\" valign=\"top\">1</th>\n",
              "      <th>0</th>\n",
              "      <td>0.000000</td>\n",
              "      <td>0.000000</td>\n",
              "      <td>6</td>\n",
              "    </tr>\n",
              "    <tr>\n",
              "      <th>1</th>\n",
              "      <td>0.147321</td>\n",
              "      <td>0.075893</td>\n",
              "      <td>224</td>\n",
              "    </tr>\n",
              "    <tr>\n",
              "      <th rowspan=\"2\" valign=\"top\">2</th>\n",
              "      <th>0</th>\n",
              "      <td>0.294118</td>\n",
              "      <td>0.117647</td>\n",
              "      <td>17</td>\n",
              "    </tr>\n",
              "    <tr>\n",
              "      <th>1</th>\n",
              "      <td>0.162963</td>\n",
              "      <td>0.032099</td>\n",
              "      <td>405</td>\n",
              "    </tr>\n",
              "    <tr>\n",
              "      <th rowspan=\"4\" valign=\"top\">2</th>\n",
              "      <th rowspan=\"2\" valign=\"top\">1</th>\n",
              "      <th>0</th>\n",
              "      <td>0.136612</td>\n",
              "      <td>0.027322</td>\n",
              "      <td>183</td>\n",
              "    </tr>\n",
              "    <tr>\n",
              "      <th>1</th>\n",
              "      <td>0.185567</td>\n",
              "      <td>0.046392</td>\n",
              "      <td>194</td>\n",
              "    </tr>\n",
              "    <tr>\n",
              "      <th rowspan=\"2\" valign=\"top\">2</th>\n",
              "      <th>0</th>\n",
              "      <td>0.143939</td>\n",
              "      <td>0.030303</td>\n",
              "      <td>132</td>\n",
              "    </tr>\n",
              "    <tr>\n",
              "      <th>1</th>\n",
              "      <td>0.167939</td>\n",
              "      <td>0.030534</td>\n",
              "      <td>131</td>\n",
              "    </tr>\n",
              "    <tr>\n",
              "      <th rowspan=\"14\" valign=\"top\">4</th>\n",
              "      <th rowspan=\"6\" valign=\"top\">0</th>\n",
              "      <th rowspan=\"4\" valign=\"top\">1</th>\n",
              "      <th rowspan=\"2\" valign=\"top\">1</th>\n",
              "      <th>0</th>\n",
              "      <td>0.000000</td>\n",
              "      <td>0.000000</td>\n",
              "      <td>12</td>\n",
              "    </tr>\n",
              "    <tr>\n",
              "      <th>1</th>\n",
              "      <td>0.038217</td>\n",
              "      <td>0.031847</td>\n",
              "      <td>157</td>\n",
              "    </tr>\n",
              "    <tr>\n",
              "      <th rowspan=\"2\" valign=\"top\">2</th>\n",
              "      <th>0</th>\n",
              "      <td>0.121212</td>\n",
              "      <td>0.030303</td>\n",
              "      <td>33</td>\n",
              "    </tr>\n",
              "    <tr>\n",
              "      <th>1</th>\n",
              "      <td>0.031546</td>\n",
              "      <td>0.012618</td>\n",
              "      <td>634</td>\n",
              "    </tr>\n",
              "    <tr>\n",
              "      <th rowspan=\"2\" valign=\"top\">2</th>\n",
              "      <th rowspan=\"2\" valign=\"top\">2</th>\n",
              "      <th>0</th>\n",
              "      <td>0.031008</td>\n",
              "      <td>0.015504</td>\n",
              "      <td>129</td>\n",
              "    </tr>\n",
              "    <tr>\n",
              "      <th>1</th>\n",
              "      <td>0.039370</td>\n",
              "      <td>0.000000</td>\n",
              "      <td>127</td>\n",
              "    </tr>\n",
              "    <tr>\n",
              "      <th rowspan=\"8\" valign=\"top\">1</th>\n",
              "      <th rowspan=\"4\" valign=\"top\">1</th>\n",
              "      <th rowspan=\"2\" valign=\"top\">1</th>\n",
              "      <th>0</th>\n",
              "      <td>0.071429</td>\n",
              "      <td>0.071429</td>\n",
              "      <td>14</td>\n",
              "    </tr>\n",
              "    <tr>\n",
              "      <th>1</th>\n",
              "      <td>0.059211</td>\n",
              "      <td>0.026316</td>\n",
              "      <td>152</td>\n",
              "    </tr>\n",
              "    <tr>\n",
              "      <th rowspan=\"2\" valign=\"top\">2</th>\n",
              "      <th>0</th>\n",
              "      <td>0.080000</td>\n",
              "      <td>0.000000</td>\n",
              "      <td>25</td>\n",
              "    </tr>\n",
              "    <tr>\n",
              "      <th>1</th>\n",
              "      <td>0.046053</td>\n",
              "      <td>0.016447</td>\n",
              "      <td>608</td>\n",
              "    </tr>\n",
              "    <tr>\n",
              "      <th rowspan=\"4\" valign=\"top\">2</th>\n",
              "      <th rowspan=\"2\" valign=\"top\">1</th>\n",
              "      <th>0</th>\n",
              "      <td>0.050847</td>\n",
              "      <td>0.008475</td>\n",
              "      <td>118</td>\n",
              "    </tr>\n",
              "    <tr>\n",
              "      <th>1</th>\n",
              "      <td>0.037313</td>\n",
              "      <td>0.007463</td>\n",
              "      <td>134</td>\n",
              "    </tr>\n",
              "    <tr>\n",
              "      <th rowspan=\"2\" valign=\"top\">2</th>\n",
              "      <th>0</th>\n",
              "      <td>0.036765</td>\n",
              "      <td>0.014706</td>\n",
              "      <td>136</td>\n",
              "    </tr>\n",
              "    <tr>\n",
              "      <th>1</th>\n",
              "      <td>0.033784</td>\n",
              "      <td>0.013514</td>\n",
              "      <td>148</td>\n",
              "    </tr>\n",
              "    <tr>\n",
              "      <th rowspan=\"8\" valign=\"top\">5</th>\n",
              "      <th rowspan=\"4\" valign=\"top\">0</th>\n",
              "      <th rowspan=\"2\" valign=\"top\">1</th>\n",
              "      <th rowspan=\"2\" valign=\"top\">2</th>\n",
              "      <th>0</th>\n",
              "      <td>0.017544</td>\n",
              "      <td>0.000000</td>\n",
              "      <td>57</td>\n",
              "    </tr>\n",
              "    <tr>\n",
              "      <th>1</th>\n",
              "      <td>0.024777</td>\n",
              "      <td>0.012884</td>\n",
              "      <td>1009</td>\n",
              "    </tr>\n",
              "    <tr>\n",
              "      <th rowspan=\"2\" valign=\"top\">2</th>\n",
              "      <th rowspan=\"2\" valign=\"top\">2</th>\n",
              "      <th>0</th>\n",
              "      <td>0.010204</td>\n",
              "      <td>0.010204</td>\n",
              "      <td>98</td>\n",
              "    </tr>\n",
              "    <tr>\n",
              "      <th>1</th>\n",
              "      <td>0.022989</td>\n",
              "      <td>0.000000</td>\n",
              "      <td>87</td>\n",
              "    </tr>\n",
              "    <tr>\n",
              "      <th rowspan=\"4\" valign=\"top\">1</th>\n",
              "      <th rowspan=\"2\" valign=\"top\">1</th>\n",
              "      <th rowspan=\"2\" valign=\"top\">2</th>\n",
              "      <th>0</th>\n",
              "      <td>0.000000</td>\n",
              "      <td>0.000000</td>\n",
              "      <td>51</td>\n",
              "    </tr>\n",
              "    <tr>\n",
              "      <th>1</th>\n",
              "      <td>0.016299</td>\n",
              "      <td>0.008629</td>\n",
              "      <td>1043</td>\n",
              "    </tr>\n",
              "    <tr>\n",
              "      <th rowspan=\"2\" valign=\"top\">2</th>\n",
              "      <th rowspan=\"2\" valign=\"top\">2</th>\n",
              "      <th>0</th>\n",
              "      <td>0.020833</td>\n",
              "      <td>0.000000</td>\n",
              "      <td>96</td>\n",
              "    </tr>\n",
              "    <tr>\n",
              "      <th>1</th>\n",
              "      <td>0.033333</td>\n",
              "      <td>0.011111</td>\n",
              "      <td>90</td>\n",
              "    </tr>\n",
              "  </tbody>\n",
              "</table>\n",
              "</div>"
            ],
            "text/plain": [
              "                                                                        click  ...     0\n",
              "rank currently_insured number_of_drivers number_of_vehicles married            ...      \n",
              "1    0                 1                 1                  0        0.571429  ...     7\n",
              "                                                            1        0.509554  ...   157\n",
              "                       2                 1                  0        0.514184  ...   282\n",
              "                                                            1        0.488746  ...   311\n",
              "     1                 1                 1                  0        0.636364  ...    11\n",
              "                                                            1        0.500000  ...   154\n",
              "                       2                 1                  0        0.523364  ...   107\n",
              "                                                            1        0.582524  ...   103\n",
              "2    0                 1                 1                  0        0.200000  ...    10\n",
              "                                                            1        0.215385  ...   195\n",
              "                       2                 1                  0        0.206897  ...   174\n",
              "                                                            1        0.161491  ...   161\n",
              "                                         2                  0        0.175258  ...    97\n",
              "                                                            1        0.193548  ...    93\n",
              "     1                 1                 1                  0        0.250000  ...     8\n",
              "                                                            1        0.137255  ...   204\n",
              "                       2                 1                  0        0.189944  ...   179\n",
              "                                                            1        0.208589  ...   163\n",
              "                                         2                  0        0.137931  ...    87\n",
              "                                                            1        0.231884  ...    69\n",
              "3    0                 1                 1                  0        0.100000  ...    10\n",
              "                                                            1        0.147679  ...   237\n",
              "                                         2                  0        0.047619  ...    21\n",
              "                                                            1        0.167568  ...   370\n",
              "                       2                 1                  0        0.194690  ...   113\n",
              "                                                            1        0.087591  ...   137\n",
              "                                         2                  0        0.125000  ...   160\n",
              "                                                            1        0.123077  ...   130\n",
              "     1                 1                 1                  0        0.000000  ...     6\n",
              "                                                            1        0.147321  ...   224\n",
              "                                         2                  0        0.294118  ...    17\n",
              "                                                            1        0.162963  ...   405\n",
              "                       2                 1                  0        0.136612  ...   183\n",
              "                                                            1        0.185567  ...   194\n",
              "                                         2                  0        0.143939  ...   132\n",
              "                                                            1        0.167939  ...   131\n",
              "4    0                 1                 1                  0        0.000000  ...    12\n",
              "                                                            1        0.038217  ...   157\n",
              "                                         2                  0        0.121212  ...    33\n",
              "                                                            1        0.031546  ...   634\n",
              "                       2                 2                  0        0.031008  ...   129\n",
              "                                                            1        0.039370  ...   127\n",
              "     1                 1                 1                  0        0.071429  ...    14\n",
              "                                                            1        0.059211  ...   152\n",
              "                                         2                  0        0.080000  ...    25\n",
              "                                                            1        0.046053  ...   608\n",
              "                       2                 1                  0        0.050847  ...   118\n",
              "                                                            1        0.037313  ...   134\n",
              "                                         2                  0        0.036765  ...   136\n",
              "                                                            1        0.033784  ...   148\n",
              "5    0                 1                 2                  0        0.017544  ...    57\n",
              "                                                            1        0.024777  ...  1009\n",
              "                       2                 2                  0        0.010204  ...    98\n",
              "                                                            1        0.022989  ...    87\n",
              "     1                 1                 2                  0        0.000000  ...    51\n",
              "                                                            1        0.016299  ...  1043\n",
              "                       2                 2                  0        0.020833  ...    96\n",
              "                                                            1        0.033333  ...    90\n",
              "\n",
              "[58 rows x 3 columns]"
            ]
          },
          "metadata": {
            "tags": []
          },
          "execution_count": 43
        }
      ]
    },
    {
      "cell_type": "markdown",
      "metadata": {
        "id": "e5tTmUvk3g-o",
        "colab_type": "text"
      },
      "source": [
        "## Question: Does probability of clicking depend on the viewer's marital status? "
      ]
    },
    {
      "cell_type": "markdown",
      "metadata": {
        "id": "2tqTpbAN5KpO",
        "colab_type": "text"
      },
      "source": [
        "Let's see the overall result first. "
      ]
    },
    {
      "cell_type": "code",
      "metadata": {
        "id": "DYpAEYfA4Czn",
        "colab_type": "code",
        "outputId": "27d545b7-5099-407b-dc26-b2dab91c743b",
        "colab": {
          "base_uri": "https://localhost:8080/",
          "height": 194
        }
      },
      "source": [
        "  d0 = df[ (df['married']==0)]['click']\n",
        "  d1 = df[ (df['married']==1)]['click']\n",
        "  t_test_result = scipy.stats.ttest_ind(d0,d1, equal_var = False)\n",
        "  t_stat = t_test_result[0]\n",
        "  p_val = t_test_result[1]\n",
        "  print(\"Overall, the p val is {}.\\n\".format(p_val))\n",
        "  print(\"The prob of clicking for each group is:\\n\")\n",
        "  print(df[['married', 'click']].groupby('married').mean().rename(columns={'click':'ProbOfClick'}))\n",
        "  print(\"\\nThat is, single people are more likely to click on ads!\")"
      ],
      "execution_count": 0,
      "outputs": [
        {
          "output_type": "stream",
          "text": [
            "Overall, the p val is 1.3158205615784851e-11.\n",
            "\n",
            "The prob of clicking for each group is:\n",
            "\t\t\n",
            "         ProbOfClick\n",
            "married             \n",
            "0           0.182891\n",
            "1           0.123246\n",
            "\n",
            "That is, single people are more likely to click on ads!\n"
          ],
          "name": "stdout"
        }
      ]
    },
    {
      "cell_type": "markdown",
      "metadata": {
        "id": "BVlvjgnK5NKZ",
        "colab_type": "text"
      },
      "source": [
        "It seems that single people are more likely to click on ads! However, let's control on the rank of our ad. "
      ]
    },
    {
      "cell_type": "code",
      "metadata": {
        "id": "0GSAqj4XzabG",
        "colab_type": "code",
        "outputId": "53dba432-3644-48c4-c166-2d3ffdafbf58",
        "colab": {
          "base_uri": "https://localhost:8080/",
          "height": 377
        }
      },
      "source": [
        "g = df[['click', 'rank','married']].groupby(['rank','married'])\n",
        "pd.concat([g.mean().rename(columns={'click':'ProbOfClick'}), g.count().rename(columns={'click':'NumOfClick'})], axis=1)"
      ],
      "execution_count": 0,
      "outputs": [
        {
          "output_type": "execute_result",
          "data": {
            "text/html": [
              "<div>\n",
              "<style scoped>\n",
              "    .dataframe tbody tr th:only-of-type {\n",
              "        vertical-align: middle;\n",
              "    }\n",
              "\n",
              "    .dataframe tbody tr th {\n",
              "        vertical-align: top;\n",
              "    }\n",
              "\n",
              "    .dataframe thead th {\n",
              "        text-align: right;\n",
              "    }\n",
              "</style>\n",
              "<table border=\"1\" class=\"dataframe\">\n",
              "  <thead>\n",
              "    <tr style=\"text-align: right;\">\n",
              "      <th></th>\n",
              "      <th></th>\n",
              "      <th>ProbOfClick</th>\n",
              "      <th>NumOfClick</th>\n",
              "    </tr>\n",
              "    <tr>\n",
              "      <th>rank</th>\n",
              "      <th>married</th>\n",
              "      <th></th>\n",
              "      <th></th>\n",
              "    </tr>\n",
              "  </thead>\n",
              "  <tbody>\n",
              "    <tr>\n",
              "      <th rowspan=\"2\" valign=\"top\">1</th>\n",
              "      <th>0</th>\n",
              "      <td>0.520885</td>\n",
              "      <td>407</td>\n",
              "    </tr>\n",
              "    <tr>\n",
              "      <th>1</th>\n",
              "      <td>0.508966</td>\n",
              "      <td>725</td>\n",
              "    </tr>\n",
              "    <tr>\n",
              "      <th rowspan=\"2\" valign=\"top\">2</th>\n",
              "      <th>0</th>\n",
              "      <td>0.185586</td>\n",
              "      <td>555</td>\n",
              "    </tr>\n",
              "    <tr>\n",
              "      <th>1</th>\n",
              "      <td>0.185311</td>\n",
              "      <td>885</td>\n",
              "    </tr>\n",
              "    <tr>\n",
              "      <th rowspan=\"2\" valign=\"top\">3</th>\n",
              "      <th>0</th>\n",
              "      <td>0.144860</td>\n",
              "      <td>642</td>\n",
              "    </tr>\n",
              "    <tr>\n",
              "      <th>1</th>\n",
              "      <td>0.154267</td>\n",
              "      <td>1828</td>\n",
              "    </tr>\n",
              "    <tr>\n",
              "      <th rowspan=\"2\" valign=\"top\">4</th>\n",
              "      <th>0</th>\n",
              "      <td>0.047109</td>\n",
              "      <td>467</td>\n",
              "    </tr>\n",
              "    <tr>\n",
              "      <th>1</th>\n",
              "      <td>0.039796</td>\n",
              "      <td>1960</td>\n",
              "    </tr>\n",
              "    <tr>\n",
              "      <th rowspan=\"2\" valign=\"top\">5</th>\n",
              "      <th>0</th>\n",
              "      <td>0.013245</td>\n",
              "      <td>302</td>\n",
              "    </tr>\n",
              "    <tr>\n",
              "      <th>1</th>\n",
              "      <td>0.021086</td>\n",
              "      <td>2229</td>\n",
              "    </tr>\n",
              "  </tbody>\n",
              "</table>\n",
              "</div>"
            ],
            "text/plain": [
              "              ProbOfClick  NumOfClick\n",
              "rank married                         \n",
              "1    0           0.520885         407\n",
              "     1           0.508966         725\n",
              "2    0           0.185586         555\n",
              "     1           0.185311         885\n",
              "3    0           0.144860         642\n",
              "     1           0.154267        1828\n",
              "4    0           0.047109         467\n",
              "     1           0.039796        1960\n",
              "5    0           0.013245         302\n",
              "     1           0.021086        2229"
            ]
          },
          "metadata": {
            "tags": []
          },
          "execution_count": 33
        }
      ]
    },
    {
      "cell_type": "markdown",
      "metadata": {
        "id": "CaLMBQ1v36md",
        "colab_type": "text"
      },
      "source": [
        "It looks like there is no difference between the two groups, after controlling for our rank... Let's run a t-test to be sure. "
      ]
    },
    {
      "cell_type": "code",
      "metadata": {
        "id": "0rqtCE5_1_6r",
        "colab_type": "code",
        "outputId": "0123eeb8-3163-4fc5-b35c-2530c7ff8625",
        "colab": {
          "base_uri": "https://localhost:8080/",
          "height": 105
        }
      },
      "source": [
        "for r in range(1,6): \n",
        "  d0 = df[(df['rank']==r) & (df['married']==0)]['click']\n",
        "  d1 = df[(df['rank']==r) & (df['married']==1)]['click']\n",
        "  t_test_result = scipy.stats.ttest_ind(d0,d1, equal_var = False)\n",
        "  t_stat = t_test_result[0]\n",
        "  p_val = t_test_result[1]\n",
        "  print(\"When we rank {}, p val is {}.\".format(r,p_val))"
      ],
      "execution_count": 0,
      "outputs": [
        {
          "output_type": "stream",
          "text": [
            "When we rank 1, p val is 0.7005511385522003.\n",
            "When we rank 2, p val is 0.9895903684276275.\n",
            "When we rank 3, p val is 0.5632141470085206.\n",
            "When we rank 4, p val is 0.4970557769588114.\n",
            "When we rank 5, p val is 0.28063908324530373.\n"
          ],
          "name": "stdout"
        }
      ]
    },
    {
      "cell_type": "markdown",
      "metadata": {
        "id": "Vu0l_Z4c3wFs",
        "colab_type": "text"
      },
      "source": [
        "We utilize a t-test. And the result is that the probability of clicking does NOT depend on the viewer's marital status. "
      ]
    },
    {
      "cell_type": "markdown",
      "metadata": {
        "id": "Xz9GetIn5BFW",
        "colab_type": "text"
      },
      "source": [
        "## Question: After clicking on ad, does the viewer's purchase decision depend on our rank? "
      ]
    },
    {
      "cell_type": "code",
      "metadata": {
        "id": "vFyeNLVt0CAv",
        "colab_type": "code",
        "colab": {}
      },
      "source": [
        "clicked = df[df['click']==1]"
      ],
      "execution_count": 0,
      "outputs": []
    },
    {
      "cell_type": "code",
      "metadata": {
        "id": "E9uSmvpG0d4g",
        "colab_type": "code",
        "outputId": "1c1881cf-2c2a-48b3-b491-8e7736b786ad",
        "colab": {
          "base_uri": "https://localhost:8080/",
          "height": 377
        }
      },
      "source": [
        "g = clicked[['policies sold','rank','married']].groupby(['rank','married'])\n",
        "pd.concat([g.mean().rename(columns={'policies sold':\"ProbOfBuy\"}), g.count().rename(columns={'policies sold':\"NumOfBuy\"})], axis=1)"
      ],
      "execution_count": 0,
      "outputs": [
        {
          "output_type": "execute_result",
          "data": {
            "text/html": [
              "<div>\n",
              "<style scoped>\n",
              "    .dataframe tbody tr th:only-of-type {\n",
              "        vertical-align: middle;\n",
              "    }\n",
              "\n",
              "    .dataframe tbody tr th {\n",
              "        vertical-align: top;\n",
              "    }\n",
              "\n",
              "    .dataframe thead th {\n",
              "        text-align: right;\n",
              "    }\n",
              "</style>\n",
              "<table border=\"1\" class=\"dataframe\">\n",
              "  <thead>\n",
              "    <tr style=\"text-align: right;\">\n",
              "      <th></th>\n",
              "      <th></th>\n",
              "      <th>ProbOfBuy</th>\n",
              "      <th>NumOfBuy</th>\n",
              "    </tr>\n",
              "    <tr>\n",
              "      <th>rank</th>\n",
              "      <th>married</th>\n",
              "      <th></th>\n",
              "      <th></th>\n",
              "    </tr>\n",
              "  </thead>\n",
              "  <tbody>\n",
              "    <tr>\n",
              "      <th rowspan=\"2\" valign=\"top\">1</th>\n",
              "      <th>0</th>\n",
              "      <td>0.462264</td>\n",
              "      <td>212</td>\n",
              "    </tr>\n",
              "    <tr>\n",
              "      <th>1</th>\n",
              "      <td>0.439024</td>\n",
              "      <td>369</td>\n",
              "    </tr>\n",
              "    <tr>\n",
              "      <th rowspan=\"2\" valign=\"top\">2</th>\n",
              "      <th>0</th>\n",
              "      <td>0.407767</td>\n",
              "      <td>103</td>\n",
              "    </tr>\n",
              "    <tr>\n",
              "      <th>1</th>\n",
              "      <td>0.359756</td>\n",
              "      <td>164</td>\n",
              "    </tr>\n",
              "    <tr>\n",
              "      <th rowspan=\"2\" valign=\"top\">3</th>\n",
              "      <th>0</th>\n",
              "      <td>0.301075</td>\n",
              "      <td>93</td>\n",
              "    </tr>\n",
              "    <tr>\n",
              "      <th>1</th>\n",
              "      <td>0.336879</td>\n",
              "      <td>282</td>\n",
              "    </tr>\n",
              "    <tr>\n",
              "      <th rowspan=\"2\" valign=\"top\">4</th>\n",
              "      <th>0</th>\n",
              "      <td>0.318182</td>\n",
              "      <td>22</td>\n",
              "    </tr>\n",
              "    <tr>\n",
              "      <th>1</th>\n",
              "      <td>0.384615</td>\n",
              "      <td>78</td>\n",
              "    </tr>\n",
              "    <tr>\n",
              "      <th rowspan=\"2\" valign=\"top\">5</th>\n",
              "      <th>0</th>\n",
              "      <td>0.250000</td>\n",
              "      <td>4</td>\n",
              "    </tr>\n",
              "    <tr>\n",
              "      <th>1</th>\n",
              "      <td>0.489362</td>\n",
              "      <td>47</td>\n",
              "    </tr>\n",
              "  </tbody>\n",
              "</table>\n",
              "</div>"
            ],
            "text/plain": [
              "              ProbOfBuy  NumOfBuy\n",
              "rank married                     \n",
              "1    0         0.462264       212\n",
              "     1         0.439024       369\n",
              "2    0         0.407767       103\n",
              "     1         0.359756       164\n",
              "3    0         0.301075        93\n",
              "     1         0.336879       282\n",
              "4    0         0.318182        22\n",
              "     1         0.384615        78\n",
              "5    0         0.250000         4\n",
              "     1         0.489362        47"
            ]
          },
          "metadata": {
            "tags": []
          },
          "execution_count": 59
        }
      ]
    },
    {
      "cell_type": "code",
      "metadata": {
        "id": "9TNlhQ2b7tss",
        "colab_type": "code",
        "outputId": "2f53ac1b-c149-4927-de58-77d6e3e83534",
        "colab": {
          "base_uri": "https://localhost:8080/",
          "height": 377
        }
      },
      "source": [
        "var = 'currently_insured'\n",
        "g = clicked[['policies sold','rank',var]].groupby(['rank',var])\n",
        "pd.concat([g.mean().rename(columns={'policies sold':\"ProbOfBuy\"}), g.count().rename(columns={'policies sold':\"NumOfBuy\"})], axis=1)"
      ],
      "execution_count": 0,
      "outputs": [
        {
          "output_type": "execute_result",
          "data": {
            "text/html": [
              "<div>\n",
              "<style scoped>\n",
              "    .dataframe tbody tr th:only-of-type {\n",
              "        vertical-align: middle;\n",
              "    }\n",
              "\n",
              "    .dataframe tbody tr th {\n",
              "        vertical-align: top;\n",
              "    }\n",
              "\n",
              "    .dataframe thead th {\n",
              "        text-align: right;\n",
              "    }\n",
              "</style>\n",
              "<table border=\"1\" class=\"dataframe\">\n",
              "  <thead>\n",
              "    <tr style=\"text-align: right;\">\n",
              "      <th></th>\n",
              "      <th></th>\n",
              "      <th>ProbOfBuy</th>\n",
              "      <th>NumOfBuy</th>\n",
              "    </tr>\n",
              "    <tr>\n",
              "      <th>rank</th>\n",
              "      <th>currently_insured</th>\n",
              "      <th></th>\n",
              "      <th></th>\n",
              "    </tr>\n",
              "  </thead>\n",
              "  <tbody>\n",
              "    <tr>\n",
              "      <th rowspan=\"2\" valign=\"top\">1</th>\n",
              "      <th>0</th>\n",
              "      <td>0.506562</td>\n",
              "      <td>381</td>\n",
              "    </tr>\n",
              "    <tr>\n",
              "      <th>1</th>\n",
              "      <td>0.335000</td>\n",
              "      <td>200</td>\n",
              "    </tr>\n",
              "    <tr>\n",
              "      <th rowspan=\"2\" valign=\"top\">2</th>\n",
              "      <th>0</th>\n",
              "      <td>0.496454</td>\n",
              "      <td>141</td>\n",
              "    </tr>\n",
              "    <tr>\n",
              "      <th>1</th>\n",
              "      <td>0.246032</td>\n",
              "      <td>126</td>\n",
              "    </tr>\n",
              "    <tr>\n",
              "      <th rowspan=\"2\" valign=\"top\">3</th>\n",
              "      <th>0</th>\n",
              "      <td>0.408284</td>\n",
              "      <td>169</td>\n",
              "    </tr>\n",
              "    <tr>\n",
              "      <th>1</th>\n",
              "      <td>0.262136</td>\n",
              "      <td>206</td>\n",
              "    </tr>\n",
              "    <tr>\n",
              "      <th rowspan=\"2\" valign=\"top\">4</th>\n",
              "      <th>0</th>\n",
              "      <td>0.410256</td>\n",
              "      <td>39</td>\n",
              "    </tr>\n",
              "    <tr>\n",
              "      <th>1</th>\n",
              "      <td>0.344262</td>\n",
              "      <td>61</td>\n",
              "    </tr>\n",
              "    <tr>\n",
              "      <th rowspan=\"2\" valign=\"top\">5</th>\n",
              "      <th>0</th>\n",
              "      <td>0.482759</td>\n",
              "      <td>29</td>\n",
              "    </tr>\n",
              "    <tr>\n",
              "      <th>1</th>\n",
              "      <td>0.454545</td>\n",
              "      <td>22</td>\n",
              "    </tr>\n",
              "  </tbody>\n",
              "</table>\n",
              "</div>"
            ],
            "text/plain": [
              "                        ProbOfBuy  NumOfBuy\n",
              "rank currently_insured                     \n",
              "1    0                   0.506562       381\n",
              "     1                   0.335000       200\n",
              "2    0                   0.496454       141\n",
              "     1                   0.246032       126\n",
              "3    0                   0.408284       169\n",
              "     1                   0.262136       206\n",
              "4    0                   0.410256        39\n",
              "     1                   0.344262        61\n",
              "5    0                   0.482759        29\n",
              "     1                   0.454545        22"
            ]
          },
          "metadata": {
            "tags": []
          },
          "execution_count": 67
        }
      ]
    },
    {
      "cell_type": "code",
      "metadata": {
        "id": "m4N4ZGHJ0m1m",
        "colab_type": "code",
        "outputId": "7f26140a-6187-4bdc-901d-e2b203af4cbd",
        "colab": {
          "base_uri": "https://localhost:8080/",
          "height": 105
        }
      },
      "source": [
        "for r in range(1,6): \n",
        "  \n",
        "  d0 = clicked[(clicked['rank']==r) & (clicked['married']==0)]['policies sold']\n",
        "  d1 = clicked[(clicked['rank']==r) & (clicked['married']==1)]['policies sold']\n",
        "  t_test_result = scipy.stats.ttest_ind(d0,d1, equal_var = False)\n",
        "  t_stat = t_test_result[0]\n",
        "  p_val = t_test_result[1]\n",
        "  print(\"When we rank {}, p val is {}.\".format(r,p_val))"
      ],
      "execution_count": 0,
      "outputs": [
        {
          "output_type": "stream",
          "text": [
            "When we rank 1, p val is 0.5889867254435269.\n",
            "When we rank 2, p val is 0.43577106709030844.\n",
            "When we rank 3, p val is 0.5199052138411727.\n",
            "When we rank 4, p val is 0.5698203136615492.\n",
            "When we rank 5, p val is 0.4165926622250802.\n"
          ],
          "name": "stdout"
        }
      ]
    },
    {
      "cell_type": "markdown",
      "metadata": {
        "id": "9KnmivZ76qSz",
        "colab_type": "text"
      },
      "source": [
        "What if we didn't control on marital status? "
      ]
    },
    {
      "cell_type": "code",
      "metadata": {
        "id": "vHvmp55l6stO",
        "colab_type": "code",
        "outputId": "33a31332-b664-479f-e3e0-41d92aab8a28",
        "colab": {
          "base_uri": "https://localhost:8080/",
          "height": 34
        }
      },
      "source": [
        "threshold = 1\n",
        "d0 = clicked[clicked['rank']<=threshold]['policies sold']\n",
        "d1 = clicked[clicked['rank']>threshold]['policies sold']\n",
        "t_test_result = scipy.stats.ttest_ind(d0,d1, equal_var = False)\n",
        "t_stat = t_test_result[0]\n",
        "p_val = t_test_result[1]\n",
        "print(p_val)"
      ],
      "execution_count": 0,
      "outputs": [
        {
          "output_type": "stream",
          "text": [
            "0.0010283578595287363\n"
          ],
          "name": "stdout"
        }
      ]
    },
    {
      "cell_type": "markdown",
      "metadata": {
        "id": "bYJToId47Icq",
        "colab_type": "text"
      },
      "source": [
        "It is statistically significant that even after controlling for clicking behavior, our previous rank still affects the viewer's purchasing decision. "
      ]
    },
    {
      "cell_type": "code",
      "metadata": {
        "id": "M2IZIlTH69Ze",
        "colab_type": "code",
        "colab": {}
      },
      "source": [
        ""
      ],
      "execution_count": 0,
      "outputs": []
    },
    {
      "cell_type": "markdown",
      "metadata": {
        "id": "4Vz4WKR0VjYW",
        "colab_type": "text"
      },
      "source": [
        "# Classification problem"
      ]
    },
    {
      "cell_type": "code",
      "metadata": {
        "id": "Fx5XGP1dVlFo",
        "colab_type": "code",
        "colab": {}
      },
      "source": [
        "from sklearn.preprocessing import PolynomialFeatures\n",
        "from sklearn.model_selection import train_test_split\n",
        "from sklearn.linear_model import LogisticRegression \n",
        "from sklearn.ensemble import GradientBoostingClassifier, RandomForestClassifier\n",
        "from sklearn.metrics import log_loss, recall_score, confusion_matrix, \\\n",
        "                            auc, accuracy_score, roc_curve"
      ],
      "execution_count": 0,
      "outputs": []
    },
    {
      "cell_type": "code",
      "metadata": {
        "id": "vMvWqWRBVrrm",
        "colab_type": "code",
        "colab": {}
      },
      "source": [
        "X_train, X_test, y_train, y_test = train_test_split(df.drop(columns=['click','policies sold']), df['click'], test_size=0.2, random_state=42)"
      ],
      "execution_count": 0,
      "outputs": []
    },
    {
      "cell_type": "code",
      "metadata": {
        "id": "wFBBFcUYLqGW",
        "colab_type": "code",
        "outputId": "7bd13118-ec58-444c-8b8d-c7c12bb7ac4f",
        "colab": {
          "base_uri": "https://localhost:8080/",
          "height": 52
        }
      },
      "source": [
        "poly = PolynomialFeatures(degree = 2, interaction_only=True)\n",
        "poly.fit(X_train)"
      ],
      "execution_count": 0,
      "outputs": [
        {
          "output_type": "execute_result",
          "data": {
            "text/plain": [
              "PolynomialFeatures(degree=2, include_bias=True, interaction_only=True,\n",
              "                   order='C')"
            ]
          },
          "metadata": {
            "tags": []
          },
          "execution_count": 52
        }
      ]
    },
    {
      "cell_type": "code",
      "metadata": {
        "id": "-0oQTX2xLxlK",
        "colab_type": "code",
        "colab": {}
      },
      "source": [
        "X_train_poly = poly.transform(X_train)\n",
        "X_test_poly = poly.transform(X_test)"
      ],
      "execution_count": 0,
      "outputs": []
    },
    {
      "cell_type": "markdown",
      "metadata": {
        "id": "0wvMJvFtOGD7",
        "colab_type": "text"
      },
      "source": [
        "## Logistic Regression"
      ]
    },
    {
      "cell_type": "code",
      "metadata": {
        "id": "5YqY0gjsV4Gx",
        "colab_type": "code",
        "outputId": "9fb77a4f-5969-4e86-f937-2e9b79c355dc",
        "colab": {
          "base_uri": "https://localhost:8080/",
          "height": 105
        }
      },
      "source": [
        "logiReg = LogisticRegression()\n",
        "logiReg.fit(X_train, y_train)"
      ],
      "execution_count": 19,
      "outputs": [
        {
          "output_type": "execute_result",
          "data": {
            "text/plain": [
              "LogisticRegression(C=1.0, class_weight=None, dual=False, fit_intercept=True,\n",
              "                   intercept_scaling=1, l1_ratio=None, max_iter=100,\n",
              "                   multi_class='auto', n_jobs=None, penalty='l2',\n",
              "                   random_state=None, solver='lbfgs', tol=0.0001, verbose=0,\n",
              "                   warm_start=False)"
            ]
          },
          "metadata": {
            "tags": []
          },
          "execution_count": 19
        }
      ]
    },
    {
      "cell_type": "code",
      "metadata": {
        "id": "ZWeNXpzJWDpk",
        "colab_type": "code",
        "colab": {}
      },
      "source": [
        "y_pred_logi = logiReg.predict_proba(X_test)[:,1]"
      ],
      "execution_count": 0,
      "outputs": []
    },
    {
      "cell_type": "code",
      "metadata": {
        "id": "1xyWImb5WROD",
        "colab_type": "code",
        "outputId": "0f2fe70b-5941-45f5-86d3-3057bff9cb25",
        "colab": {
          "base_uri": "https://localhost:8080/",
          "height": 105
        }
      },
      "source": [
        "threshold = .28\n",
        "y_pred_prob = y_pred_logi\n",
        "y_pred = y_pred_prob > threshold\n",
        "print('Prob of clicking:', np.mean(y_test), np.mean(y_pred))\n",
        "print('Log loss:', log_loss(y_test, y_pred_prob))\n",
        "print('Accuracy score:', accuracy_score(y_test, y_pred))\n",
        "print(\"Recall rate:\", recall_score(y_test, y_pred))\n",
        "fpr, tpr, thresholds = roc_curve(y_test, y_pred_prob)\n",
        "print('AUC metric:', auc(fpr, tpr))"
      ],
      "execution_count": 22,
      "outputs": [
        {
          "output_type": "stream",
          "text": [
            "Prob of clicking: 0.1255 0.1165\n",
            "Log loss: 0.3097710885298493\n",
            "Accuracy score: 0.871\n",
            "Recall rate: 0.450199203187251\n",
            "AUC metric: 0.7917421224194132\n"
          ],
          "name": "stdout"
        }
      ]
    },
    {
      "cell_type": "code",
      "metadata": {
        "id": "NRBQGdGwWXVQ",
        "colab_type": "code",
        "outputId": "2ec49233-b9be-4b5b-dae0-7a80099640ce",
        "colab": {
          "base_uri": "https://localhost:8080/",
          "height": 52
        }
      },
      "source": [
        "confusion_matrix(y_test, y_pred)"
      ],
      "execution_count": 0,
      "outputs": [
        {
          "output_type": "execute_result",
          "data": {
            "text/plain": [
              "array([[1629,  120],\n",
              "       [ 138,  113]])"
            ]
          },
          "metadata": {
            "tags": []
          },
          "execution_count": 110
        }
      ]
    },
    {
      "cell_type": "markdown",
      "metadata": {
        "id": "xCeZjoZNu0Iy",
        "colab_type": "text"
      },
      "source": [
        "## Ensemble learning"
      ]
    },
    {
      "cell_type": "code",
      "metadata": {
        "id": "VoCaXrr3u9xK",
        "colab_type": "code",
        "colab": {
          "base_uri": "https://localhost:8080/",
          "height": 194
        },
        "outputId": "e879608c-08ac-4484-e10c-51362e5ddfa3"
      },
      "source": [
        "gb_clf = GradientBoostingClassifier()\n",
        "gb_clf.fit(X_train, y_train)"
      ],
      "execution_count": 10,
      "outputs": [
        {
          "output_type": "execute_result",
          "data": {
            "text/plain": [
              "GradientBoostingClassifier(ccp_alpha=0.0, criterion='friedman_mse', init=None,\n",
              "                           learning_rate=0.1, loss='deviance', max_depth=3,\n",
              "                           max_features=None, max_leaf_nodes=None,\n",
              "                           min_impurity_decrease=0.0, min_impurity_split=None,\n",
              "                           min_samples_leaf=1, min_samples_split=2,\n",
              "                           min_weight_fraction_leaf=0.0, n_estimators=100,\n",
              "                           n_iter_no_change=None, presort='deprecated',\n",
              "                           random_state=None, subsample=1.0, tol=0.0001,\n",
              "                           validation_fraction=0.1, verbose=0,\n",
              "                           warm_start=False)"
            ]
          },
          "metadata": {
            "tags": []
          },
          "execution_count": 10
        }
      ]
    },
    {
      "cell_type": "code",
      "metadata": {
        "id": "uBjgmMiAvECb",
        "colab_type": "code",
        "colab": {}
      },
      "source": [
        "y_pred_gb = gb_clf.predict_proba(X_test)[:,1]"
      ],
      "execution_count": 0,
      "outputs": []
    },
    {
      "cell_type": "code",
      "metadata": {
        "id": "cAGq-CpsvIs_",
        "colab_type": "code",
        "colab": {
          "base_uri": "https://localhost:8080/",
          "height": 105
        },
        "outputId": "cd0c868b-7138-4a39-d618-0cbfb11d8576"
      },
      "source": [
        "threshold = .2\n",
        "y_pred_prob = y_pred_gb\n",
        "y_pred = y_pred_gb > threshold\n",
        "print('Prob of clicking:', np.mean(y_test), np.mean(y_pred))\n",
        "print('Log loss:', log_loss(y_test, y_pred_prob))\n",
        "print('Accuracy score:', accuracy_score(y_test, y_pred))\n",
        "print(\"Recall rate:\", recall_score(y_test, y_pred))\n",
        "fpr, tpr, thresholds = roc_curve(y_test, y_pred_prob)\n",
        "print('AUC metric:', auc(fpr, tpr))"
      ],
      "execution_count": 18,
      "outputs": [
        {
          "output_type": "stream",
          "text": [
            "Prob of clicking: 0.1255 0.1935\n",
            "Log loss: 0.30856431435476245\n",
            "Accuracy score: 0.815\n",
            "Recall rate: 0.5338645418326693\n",
            "AUC metric: 0.7892136428556785\n"
          ],
          "name": "stdout"
        }
      ]
    },
    {
      "cell_type": "code",
      "metadata": {
        "id": "aBipWNv7whmU",
        "colab_type": "code",
        "colab": {
          "base_uri": "https://localhost:8080/",
          "height": 34
        },
        "outputId": "e0e7eef5-d464-49df-a4f9-439a729d4143"
      },
      "source": [
        ""
      ],
      "execution_count": 17,
      "outputs": [
        {
          "output_type": "stream",
          "text": [
            "0.7892136428556785\n"
          ],
          "name": "stdout"
        }
      ]
    },
    {
      "cell_type": "markdown",
      "metadata": {
        "id": "A0bwghguOI5G",
        "colab_type": "text"
      },
      "source": [
        "## Neural Network"
      ]
    },
    {
      "cell_type": "code",
      "metadata": {
        "id": "2-px8J6JWw-L",
        "colab_type": "code",
        "colab": {}
      },
      "source": [
        "# import MLPClassifier\n",
        "from sklearn.neural_network import MLPClassifier"
      ],
      "execution_count": 0,
      "outputs": []
    },
    {
      "cell_type": "code",
      "metadata": {
        "id": "XRWQacQ8NLAr",
        "colab_type": "code",
        "outputId": "e3d86b70-9289-48e6-ec2a-196944f8b620",
        "colab": {
          "base_uri": "https://localhost:8080/",
          "height": 158
        }
      },
      "source": [
        "mlp = MLPClassifier(hidden_layer_sizes=(100,),max_iter=1000)\n",
        "mlp.fit(X_train, y_train)"
      ],
      "execution_count": 0,
      "outputs": [
        {
          "output_type": "execute_result",
          "data": {
            "text/plain": [
              "MLPClassifier(activation='relu', alpha=0.0001, batch_size='auto', beta_1=0.9,\n",
              "              beta_2=0.999, early_stopping=False, epsilon=1e-08,\n",
              "              hidden_layer_sizes=(100,), learning_rate='constant',\n",
              "              learning_rate_init=0.001, max_fun=15000, max_iter=1000,\n",
              "              momentum=0.9, n_iter_no_change=10, nesterovs_momentum=True,\n",
              "              power_t=0.5, random_state=None, shuffle=True, solver='adam',\n",
              "              tol=0.0001, validation_fraction=0.1, verbose=False,\n",
              "              warm_start=False)"
            ]
          },
          "metadata": {
            "tags": []
          },
          "execution_count": 58
        }
      ]
    },
    {
      "cell_type": "code",
      "metadata": {
        "id": "TsmFdqRTNQoS",
        "colab_type": "code",
        "colab": {}
      },
      "source": [
        "y_pred_nn = mlp.predict(X_test)\n",
        "y_pred_prob_nn = mlp.predict_proba(X_test)"
      ],
      "execution_count": 0,
      "outputs": []
    },
    {
      "cell_type": "code",
      "metadata": {
        "id": "CJ4baBKeNV89",
        "colab_type": "code",
        "outputId": "d62976d5-e945-40e6-c5c5-b2d32f4661f6",
        "colab": {
          "base_uri": "https://localhost:8080/",
          "height": 70
        }
      },
      "source": [
        "print(log_loss(y_test, y_pred_prob_nn))\n",
        "print(accuracy_score(y_test, y_pred_nn))\n",
        "print(recall_score(y_test, y_pred_nn))"
      ],
      "execution_count": 0,
      "outputs": [
        {
          "output_type": "stream",
          "text": [
            "0.3096948380463545\n",
            "0.8675\n",
            "0.199203187250996\n"
          ],
          "name": "stdout"
        }
      ]
    },
    {
      "cell_type": "code",
      "metadata": {
        "id": "Zm4nDluJNlu2",
        "colab_type": "code",
        "outputId": "09b5f60e-a706-4f3c-90a8-5ecd2c4f3d68",
        "colab": {
          "base_uri": "https://localhost:8080/",
          "height": 34
        }
      },
      "source": [
        "np.mean(y_pred_nn)"
      ],
      "execution_count": 0,
      "outputs": [
        {
          "output_type": "execute_result",
          "data": {
            "text/plain": [
              "0.057"
            ]
          },
          "metadata": {
            "tags": []
          },
          "execution_count": 61
        }
      ]
    },
    {
      "cell_type": "code",
      "metadata": {
        "id": "mRcyEWQZN6MM",
        "colab_type": "code",
        "outputId": "1d2bc510-0119-444d-e726-06dfbe52f928",
        "colab": {
          "base_uri": "https://localhost:8080/",
          "height": 34
        }
      },
      "source": [
        "np.mean(y_test)"
      ],
      "execution_count": 0,
      "outputs": [
        {
          "output_type": "execute_result",
          "data": {
            "text/plain": [
              "0.1255"
            ]
          },
          "metadata": {
            "tags": []
          },
          "execution_count": 62
        }
      ]
    },
    {
      "cell_type": "code",
      "metadata": {
        "id": "rjJFtnp8N8Wh",
        "colab_type": "code",
        "colab": {}
      },
      "source": [
        ""
      ],
      "execution_count": 0,
      "outputs": []
    }
  ]
}