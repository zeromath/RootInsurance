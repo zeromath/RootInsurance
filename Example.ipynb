{
 "cells": [
  {
   "cell_type": "code",
   "execution_count": 1,
   "metadata": {},
   "outputs": [],
   "source": [
    "import numpy as np\n",
    "import pandas as pd\n",
    "from zhan_roles import Company, SearchWebsite, updateQ"
   ]
  },
  {
   "cell_type": "code",
   "execution_count": 2,
   "metadata": {},
   "outputs": [],
   "source": [
    "data = pd.read_csv(\"clean.csv\")"
   ]
  },
  {
   "cell_type": "code",
   "execution_count": 3,
   "metadata": {},
   "outputs": [
    {
     "data": {
      "text/html": [
       "<div>\n",
       "<style scoped>\n",
       "    .dataframe tbody tr th:only-of-type {\n",
       "        vertical-align: middle;\n",
       "    }\n",
       "\n",
       "    .dataframe tbody tr th {\n",
       "        vertical-align: top;\n",
       "    }\n",
       "\n",
       "    .dataframe thead th {\n",
       "        text-align: right;\n",
       "    }\n",
       "</style>\n",
       "<table border=\"1\" class=\"dataframe\">\n",
       "  <thead>\n",
       "    <tr style=\"text-align: right;\">\n",
       "      <th></th>\n",
       "      <th>impression_id</th>\n",
       "      <th>click</th>\n",
       "      <th>currently_insured</th>\n",
       "      <th>number_of_vehicles</th>\n",
       "      <th>number_of_drivers</th>\n",
       "      <th>rank</th>\n",
       "      <th>policies sold</th>\n",
       "      <th>married</th>\n",
       "    </tr>\n",
       "  </thead>\n",
       "  <tbody>\n",
       "    <tr>\n",
       "      <th>0</th>\n",
       "      <td>1</td>\n",
       "      <td>1</td>\n",
       "      <td>0</td>\n",
       "      <td>1</td>\n",
       "      <td>1</td>\n",
       "      <td>1</td>\n",
       "      <td>1</td>\n",
       "      <td>1</td>\n",
       "    </tr>\n",
       "    <tr>\n",
       "      <th>1</th>\n",
       "      <td>2</td>\n",
       "      <td>0</td>\n",
       "      <td>0</td>\n",
       "      <td>2</td>\n",
       "      <td>1</td>\n",
       "      <td>4</td>\n",
       "      <td>0</td>\n",
       "      <td>1</td>\n",
       "    </tr>\n",
       "    <tr>\n",
       "      <th>2</th>\n",
       "      <td>3</td>\n",
       "      <td>0</td>\n",
       "      <td>0</td>\n",
       "      <td>1</td>\n",
       "      <td>1</td>\n",
       "      <td>2</td>\n",
       "      <td>0</td>\n",
       "      <td>0</td>\n",
       "    </tr>\n",
       "    <tr>\n",
       "      <th>3</th>\n",
       "      <td>4</td>\n",
       "      <td>0</td>\n",
       "      <td>1</td>\n",
       "      <td>2</td>\n",
       "      <td>1</td>\n",
       "      <td>5</td>\n",
       "      <td>0</td>\n",
       "      <td>1</td>\n",
       "    </tr>\n",
       "    <tr>\n",
       "      <th>4</th>\n",
       "      <td>5</td>\n",
       "      <td>0</td>\n",
       "      <td>1</td>\n",
       "      <td>2</td>\n",
       "      <td>2</td>\n",
       "      <td>4</td>\n",
       "      <td>0</td>\n",
       "      <td>0</td>\n",
       "    </tr>\n",
       "  </tbody>\n",
       "</table>\n",
       "</div>"
      ],
      "text/plain": [
       "   impression_id  click  currently_insured  number_of_vehicles  \\\n",
       "0              1      1                  0                   1   \n",
       "1              2      0                  0                   2   \n",
       "2              3      0                  0                   1   \n",
       "3              4      0                  1                   2   \n",
       "4              5      0                  1                   2   \n",
       "\n",
       "   number_of_drivers  rank  policies sold  married  \n",
       "0                  1     1              1        1  \n",
       "1                  1     4              0        1  \n",
       "2                  1     2              0        0  \n",
       "3                  1     5              0        1  \n",
       "4                  2     4              0        0  "
      ]
     },
     "execution_count": 3,
     "metadata": {},
     "output_type": "execute_result"
    }
   ],
   "source": [
    "data.head()"
   ]
  },
  {
   "cell_type": "code",
   "execution_count": 5,
   "metadata": {},
   "outputs": [
    {
     "data": {
      "text/html": [
       "<div>\n",
       "<style scoped>\n",
       "    .dataframe tbody tr th:only-of-type {\n",
       "        vertical-align: middle;\n",
       "    }\n",
       "\n",
       "    .dataframe tbody tr th {\n",
       "        vertical-align: top;\n",
       "    }\n",
       "\n",
       "    .dataframe thead th {\n",
       "        text-align: right;\n",
       "    }\n",
       "</style>\n",
       "<table border=\"1\" class=\"dataframe\">\n",
       "  <thead>\n",
       "    <tr style=\"text-align: right;\">\n",
       "      <th></th>\n",
       "      <th>click</th>\n",
       "      <th>currently_insured</th>\n",
       "      <th>number_of_vehicles</th>\n",
       "      <th>number_of_drivers</th>\n",
       "      <th>rank</th>\n",
       "      <th>policies sold</th>\n",
       "      <th>married</th>\n",
       "    </tr>\n",
       "  </thead>\n",
       "  <tbody>\n",
       "  </tbody>\n",
       "</table>\n",
       "</div>"
      ],
      "text/plain": [
       "Empty DataFrame\n",
       "Columns: [click, currently_insured, number_of_vehicles, number_of_drivers, rank, policies sold, married]\n",
       "Index: []"
      ]
     },
     "execution_count": 5,
     "metadata": {},
     "output_type": "execute_result"
    }
   ],
   "source": [
    "pd.DataFrame({'click':[], 'currently_insured':[], 'number_of_vehicles':[],\n",
    "       'number_of_drivers':[], 'rank':[], 'policies sold':[], 'married':[]})"
   ]
  },
  {
   "cell_type": "code",
   "execution_count": 3,
   "metadata": {},
   "outputs": [
    {
     "name": "stdout",
     "output_type": "stream",
     "text": [
      "1    7627\n",
      "0    2373\n",
      "Name: married, dtype: int64\n",
      "2    6083\n",
      "1    3917\n",
      "Name: number_of_vehicles, dtype: int64\n",
      "1    5831\n",
      "2    4169\n",
      "Name: number_of_drivers, dtype: int64\n",
      "0    5008\n",
      "1    4992\n",
      "Name: currently_insured, dtype: int64\n"
     ]
    }
   ],
   "source": [
    "### Initialize objects\n",
    "\n",
    "for name in ['married', 'number_of_vehicles', 'number_of_drivers', 'currently_insured']:\n",
    "    print(data[name].value_counts())\n",
    "\n",
    "sw = SearchWebsite(updateQ, 10000, p_vehicle=0.6083, p_driver=0.4169, p_insured=0.4992, p_marital=0.7627)"
   ]
  },
  {
   "cell_type": "code",
   "execution_count": 4,
   "metadata": {
    "scrolled": false
   },
   "outputs": [
    {
     "name": "stdout",
     "output_type": "stream",
     "text": [
      "epoch: 9\n",
      "epoch: 19\n",
      "epoch: 29\n",
      "epoch: 39\n",
      "epoch: 49\n",
      "epoch: 59\n",
      "epoch: 69\n",
      "epoch: 79\n",
      "epoch: 89\n",
      "epoch: 99\n"
     ]
    }
   ],
   "source": [
    "for e in range(100):\n",
    "    sw.train()\n",
    "    if e % 10 == 9:\n",
    "        print('epoch: {}'.format(e))"
   ]
  },
  {
   "cell_type": "code",
   "execution_count": 5,
   "metadata": {},
   "outputs": [
    {
     "name": "stdout",
     "output_type": "stream",
     "text": [
      "[20, 13, 18, 19, 13]\n",
      "[20, 15, 16, 16, 20]\n",
      "[20, 19, 18, 5, 19]\n",
      "[15, 17, 17, 20, 17]\n",
      "[18, 19, 17, 15, 15]\n",
      "[16, 19, 10, 20, 17]\n",
      "[13, 19, 18, 19, 18]\n",
      "[20, 16, 20, 20, 15]\n",
      "[16, 16, 14, 20, 19]\n",
      "[12, 19, 18, 15, 18]\n",
      "[16, 20, 20, 20, 19]\n",
      "[18, 20, 18, 20, 20]\n",
      "[17, 15, 15, 14, 20]\n",
      "[19, 14, 18, 20, 16]\n",
      "[17, 17, 16, 15, 19]\n",
      "[7, 19, 20, 18, 20]\n"
     ]
    }
   ],
   "source": [
    "for j in range(16):\n",
    "    print([sw.companies[i].getPrice(j) for i in range(5)])"
   ]
  },
  {
   "cell_type": "code",
   "execution_count": 6,
   "metadata": {},
   "outputs": [],
   "source": [
    "sw.test()"
   ]
  },
  {
   "cell_type": "code",
   "execution_count": 7,
   "metadata": {
    "scrolled": true
   },
   "outputs": [
    {
     "name": "stdout",
     "output_type": "stream",
     "text": [
      "9\n",
      "19\n",
      "29\n",
      "39\n",
      "49\n",
      "59\n",
      "69\n",
      "79\n",
      "89\n",
      "99\n"
     ]
    }
   ],
   "source": [
    "for i in range(5):\n",
    "    sw.companies[i].test=True\n",
    "\n",
    "sw.reset()\n",
    "    \n",
    "for e in range(100):\n",
    "    for _ in range(100):\n",
    "        sw.auction()\n",
    "    if e % 10 == 9:\n",
    "        print(e)\n",
    "    sw.reset()"
   ]
  },
  {
   "cell_type": "code",
   "execution_count": 8,
   "metadata": {},
   "outputs": [
    {
     "name": "stdout",
     "output_type": "stream",
     "text": [
      "227\n",
      "120\n",
      "113\n",
      "54\n",
      "20\n"
     ]
    }
   ],
   "source": [
    "for i in range(5):\n",
    "    print(sw.companies[i].num_total_sold)"
   ]
  },
  {
   "cell_type": "code",
   "execution_count": 9,
   "metadata": {},
   "outputs": [],
   "source": [
    "df1 = pd.DataFrame(sw.companies[1].record)"
   ]
  },
  {
   "cell_type": "code",
   "execution_count": 10,
   "metadata": {},
   "outputs": [
    {
     "data": {
      "text/html": [
       "<div>\n",
       "<style scoped>\n",
       "    .dataframe tbody tr th:only-of-type {\n",
       "        vertical-align: middle;\n",
       "    }\n",
       "\n",
       "    .dataframe tbody tr th {\n",
       "        vertical-align: top;\n",
       "    }\n",
       "\n",
       "    .dataframe thead th {\n",
       "        text-align: right;\n",
       "    }\n",
       "</style>\n",
       "<table border=\"1\" class=\"dataframe\">\n",
       "  <thead>\n",
       "    <tr style=\"text-align: right;\">\n",
       "      <th></th>\n",
       "      <th>click</th>\n",
       "      <th>currently_insured</th>\n",
       "      <th>number_of_vehicles</th>\n",
       "      <th>number_of_drivers</th>\n",
       "      <th>rank</th>\n",
       "      <th>policies sold</th>\n",
       "      <th>married</th>\n",
       "    </tr>\n",
       "  </thead>\n",
       "  <tbody>\n",
       "    <tr>\n",
       "      <th>232</th>\n",
       "      <td>1</td>\n",
       "      <td>0</td>\n",
       "      <td>0</td>\n",
       "      <td>1</td>\n",
       "      <td>1</td>\n",
       "      <td>1</td>\n",
       "      <td>1</td>\n",
       "    </tr>\n",
       "    <tr>\n",
       "      <th>336</th>\n",
       "      <td>1</td>\n",
       "      <td>0</td>\n",
       "      <td>1</td>\n",
       "      <td>1</td>\n",
       "      <td>1</td>\n",
       "      <td>1</td>\n",
       "      <td>1</td>\n",
       "    </tr>\n",
       "    <tr>\n",
       "      <th>459</th>\n",
       "      <td>1</td>\n",
       "      <td>1</td>\n",
       "      <td>0</td>\n",
       "      <td>1</td>\n",
       "      <td>3</td>\n",
       "      <td>1</td>\n",
       "      <td>1</td>\n",
       "    </tr>\n",
       "    <tr>\n",
       "      <th>612</th>\n",
       "      <td>1</td>\n",
       "      <td>1</td>\n",
       "      <td>0</td>\n",
       "      <td>0</td>\n",
       "      <td>1</td>\n",
       "      <td>1</td>\n",
       "      <td>1</td>\n",
       "    </tr>\n",
       "    <tr>\n",
       "      <th>613</th>\n",
       "      <td>1</td>\n",
       "      <td>1</td>\n",
       "      <td>0</td>\n",
       "      <td>0</td>\n",
       "      <td>1</td>\n",
       "      <td>1</td>\n",
       "      <td>0</td>\n",
       "    </tr>\n",
       "    <tr>\n",
       "      <th>...</th>\n",
       "      <td>...</td>\n",
       "      <td>...</td>\n",
       "      <td>...</td>\n",
       "      <td>...</td>\n",
       "      <td>...</td>\n",
       "      <td>...</td>\n",
       "      <td>...</td>\n",
       "    </tr>\n",
       "    <tr>\n",
       "      <th>9496</th>\n",
       "      <td>1</td>\n",
       "      <td>0</td>\n",
       "      <td>0</td>\n",
       "      <td>1</td>\n",
       "      <td>3</td>\n",
       "      <td>1</td>\n",
       "      <td>0</td>\n",
       "    </tr>\n",
       "    <tr>\n",
       "      <th>9725</th>\n",
       "      <td>1</td>\n",
       "      <td>1</td>\n",
       "      <td>0</td>\n",
       "      <td>0</td>\n",
       "      <td>2</td>\n",
       "      <td>1</td>\n",
       "      <td>1</td>\n",
       "    </tr>\n",
       "    <tr>\n",
       "      <th>9939</th>\n",
       "      <td>1</td>\n",
       "      <td>0</td>\n",
       "      <td>0</td>\n",
       "      <td>1</td>\n",
       "      <td>4</td>\n",
       "      <td>1</td>\n",
       "      <td>0</td>\n",
       "    </tr>\n",
       "    <tr>\n",
       "      <th>9993</th>\n",
       "      <td>1</td>\n",
       "      <td>1</td>\n",
       "      <td>1</td>\n",
       "      <td>1</td>\n",
       "      <td>2</td>\n",
       "      <td>1</td>\n",
       "      <td>0</td>\n",
       "    </tr>\n",
       "    <tr>\n",
       "      <th>9997</th>\n",
       "      <td>1</td>\n",
       "      <td>0</td>\n",
       "      <td>0</td>\n",
       "      <td>0</td>\n",
       "      <td>0</td>\n",
       "      <td>1</td>\n",
       "      <td>1</td>\n",
       "    </tr>\n",
       "  </tbody>\n",
       "</table>\n",
       "<p>120 rows × 7 columns</p>\n",
       "</div>"
      ],
      "text/plain": [
       "      click  currently_insured  number_of_vehicles  number_of_drivers  rank  \\\n",
       "232       1                  0                   0                  1     1   \n",
       "336       1                  0                   1                  1     1   \n",
       "459       1                  1                   0                  1     3   \n",
       "612       1                  1                   0                  0     1   \n",
       "613       1                  1                   0                  0     1   \n",
       "...     ...                ...                 ...                ...   ...   \n",
       "9496      1                  0                   0                  1     3   \n",
       "9725      1                  1                   0                  0     2   \n",
       "9939      1                  0                   0                  1     4   \n",
       "9993      1                  1                   1                  1     2   \n",
       "9997      1                  0                   0                  0     0   \n",
       "\n",
       "      policies sold  married  \n",
       "232               1        1  \n",
       "336               1        1  \n",
       "459               1        1  \n",
       "612               1        1  \n",
       "613               1        0  \n",
       "...             ...      ...  \n",
       "9496              1        0  \n",
       "9725              1        1  \n",
       "9939              1        0  \n",
       "9993              1        0  \n",
       "9997              1        1  \n",
       "\n",
       "[120 rows x 7 columns]"
      ]
     },
     "execution_count": 10,
     "metadata": {},
     "output_type": "execute_result"
    }
   ],
   "source": [
    "df1[df1['policies sold'] == 1]"
   ]
  },
  {
   "cell_type": "code",
   "execution_count": 11,
   "metadata": {},
   "outputs": [
    {
     "name": "stdout",
     "output_type": "stream",
     "text": [
      "1    7650\n",
      "0    2361\n",
      "Name: married, dtype: int64\n",
      "1    6097\n",
      "0    3914\n",
      "Name: number_of_vehicles, dtype: int64\n",
      "0    5901\n",
      "1    4110\n",
      "Name: number_of_drivers, dtype: int64\n",
      "1    5019\n",
      "0    4992\n",
      "Name: currently_insured, dtype: int64\n"
     ]
    }
   ],
   "source": [
    "for name in ['married', 'number_of_vehicles', 'number_of_drivers', 'currently_insured']:\n",
    "    print(df1[name].value_counts())"
   ]
  },
  {
   "cell_type": "code",
   "execution_count": 16,
   "metadata": {},
   "outputs": [
    {
     "data": {
      "text/plain": [
       "1"
      ]
     },
     "execution_count": 16,
     "metadata": {},
     "output_type": "execute_result"
    }
   ],
   "source": [
    "np.random.binomial(1, 0.9)"
   ]
  },
  {
   "cell_type": "code",
   "execution_count": 12,
   "metadata": {},
   "outputs": [
    {
     "data": {
      "text/html": [
       "<div>\n",
       "<style scoped>\n",
       "    .dataframe tbody tr th:only-of-type {\n",
       "        vertical-align: middle;\n",
       "    }\n",
       "\n",
       "    .dataframe tbody tr th {\n",
       "        vertical-align: top;\n",
       "    }\n",
       "\n",
       "    .dataframe thead th {\n",
       "        text-align: right;\n",
       "    }\n",
       "</style>\n",
       "<table border=\"1\" class=\"dataframe\">\n",
       "  <thead>\n",
       "    <tr style=\"text-align: right;\">\n",
       "      <th></th>\n",
       "      <th>click</th>\n",
       "      <th>currently_insured</th>\n",
       "      <th>number_of_vehicles</th>\n",
       "      <th>number_of_drivers</th>\n",
       "      <th>rank</th>\n",
       "      <th>policies sold</th>\n",
       "      <th>married</th>\n",
       "    </tr>\n",
       "  </thead>\n",
       "  <tbody>\n",
       "    <tr>\n",
       "      <th>0</th>\n",
       "      <td>0</td>\n",
       "      <td>1</td>\n",
       "      <td>1</td>\n",
       "      <td>0</td>\n",
       "      <td>1</td>\n",
       "      <td>0</td>\n",
       "      <td>1</td>\n",
       "    </tr>\n",
       "    <tr>\n",
       "      <th>1</th>\n",
       "      <td>0</td>\n",
       "      <td>1</td>\n",
       "      <td>0</td>\n",
       "      <td>0</td>\n",
       "      <td>3</td>\n",
       "      <td>0</td>\n",
       "      <td>1</td>\n",
       "    </tr>\n",
       "    <tr>\n",
       "      <th>2</th>\n",
       "      <td>0</td>\n",
       "      <td>1</td>\n",
       "      <td>1</td>\n",
       "      <td>0</td>\n",
       "      <td>0</td>\n",
       "      <td>0</td>\n",
       "      <td>1</td>\n",
       "    </tr>\n",
       "    <tr>\n",
       "      <th>3</th>\n",
       "      <td>0</td>\n",
       "      <td>0</td>\n",
       "      <td>1</td>\n",
       "      <td>0</td>\n",
       "      <td>0</td>\n",
       "      <td>0</td>\n",
       "      <td>1</td>\n",
       "    </tr>\n",
       "    <tr>\n",
       "      <th>4</th>\n",
       "      <td>1</td>\n",
       "      <td>0</td>\n",
       "      <td>0</td>\n",
       "      <td>1</td>\n",
       "      <td>1</td>\n",
       "      <td>0</td>\n",
       "      <td>1</td>\n",
       "    </tr>\n",
       "    <tr>\n",
       "      <th>...</th>\n",
       "      <td>...</td>\n",
       "      <td>...</td>\n",
       "      <td>...</td>\n",
       "      <td>...</td>\n",
       "      <td>...</td>\n",
       "      <td>...</td>\n",
       "      <td>...</td>\n",
       "    </tr>\n",
       "    <tr>\n",
       "      <th>10006</th>\n",
       "      <td>0</td>\n",
       "      <td>1</td>\n",
       "      <td>1</td>\n",
       "      <td>0</td>\n",
       "      <td>4</td>\n",
       "      <td>0</td>\n",
       "      <td>1</td>\n",
       "    </tr>\n",
       "    <tr>\n",
       "      <th>10007</th>\n",
       "      <td>0</td>\n",
       "      <td>1</td>\n",
       "      <td>1</td>\n",
       "      <td>1</td>\n",
       "      <td>1</td>\n",
       "      <td>0</td>\n",
       "      <td>1</td>\n",
       "    </tr>\n",
       "    <tr>\n",
       "      <th>10008</th>\n",
       "      <td>0</td>\n",
       "      <td>1</td>\n",
       "      <td>1</td>\n",
       "      <td>0</td>\n",
       "      <td>1</td>\n",
       "      <td>0</td>\n",
       "      <td>0</td>\n",
       "    </tr>\n",
       "    <tr>\n",
       "      <th>10009</th>\n",
       "      <td>0</td>\n",
       "      <td>0</td>\n",
       "      <td>0</td>\n",
       "      <td>1</td>\n",
       "      <td>4</td>\n",
       "      <td>0</td>\n",
       "      <td>1</td>\n",
       "    </tr>\n",
       "    <tr>\n",
       "      <th>10010</th>\n",
       "      <td>0</td>\n",
       "      <td>1</td>\n",
       "      <td>1</td>\n",
       "      <td>1</td>\n",
       "      <td>3</td>\n",
       "      <td>0</td>\n",
       "      <td>0</td>\n",
       "    </tr>\n",
       "  </tbody>\n",
       "</table>\n",
       "<p>10011 rows × 7 columns</p>\n",
       "</div>"
      ],
      "text/plain": [
       "       click  currently_insured  number_of_vehicles  number_of_drivers  rank  \\\n",
       "0          0                  1                   1                  0     1   \n",
       "1          0                  1                   0                  0     3   \n",
       "2          0                  1                   1                  0     0   \n",
       "3          0                  0                   1                  0     0   \n",
       "4          1                  0                   0                  1     1   \n",
       "...      ...                ...                 ...                ...   ...   \n",
       "10006      0                  1                   1                  0     4   \n",
       "10007      0                  1                   1                  1     1   \n",
       "10008      0                  1                   1                  0     1   \n",
       "10009      0                  0                   0                  1     4   \n",
       "10010      0                  1                   1                  1     3   \n",
       "\n",
       "       policies sold  married  \n",
       "0                  0        1  \n",
       "1                  0        1  \n",
       "2                  0        1  \n",
       "3                  0        1  \n",
       "4                  0        1  \n",
       "...              ...      ...  \n",
       "10006              0        1  \n",
       "10007              0        1  \n",
       "10008              0        0  \n",
       "10009              0        1  \n",
       "10010              0        0  \n",
       "\n",
       "[10011 rows x 7 columns]"
      ]
     },
     "execution_count": 12,
     "metadata": {},
     "output_type": "execute_result"
    }
   ],
   "source": [
    "df1"
   ]
  },
  {
   "cell_type": "code",
   "execution_count": 37,
   "metadata": {},
   "outputs": [
    {
     "name": "stdout",
     "output_type": "stream",
     "text": [
      "         click  policies sold\n",
      "rank                         \n",
      "1     0.636364       0.363636\n",
      "2     0.250000       0.250000\n",
      "3     0.000000       0.000000\n",
      "4     0.071429       0.071429\n"
     ]
    }
   ],
   "source": [
    "print(data1.groupby('rank').mean()[['click', 'policies sold']])"
   ]
  },
  {
   "cell_type": "code",
   "execution_count": 14,
   "metadata": {},
   "outputs": [
    {
     "name": "stdout",
     "output_type": "stream",
     "text": [
      "[0.05128205128205128, 0.05128205128205128, 0, 0, 0]\n",
      "0.10256410256410256\n",
      "\n",
      "[0.10256410256410256, 0.05128205128205128, 0, 0.02564102564102564, 0]\n",
      "0.1794871794871795\n",
      "\n",
      "[0.06032171581769437, 0.030831099195710455, 0.020107238605898123, 0.006702412868632708, 0]\n",
      "0.11796246648793567\n",
      "\n",
      "[0.04632152588555858, 0.01226158038147139, 0.02316076294277929, 0.005449591280653951, 0]\n",
      "0.08719346049046321\n",
      "\n",
      "[0.1335676625659051, 0.033391915641476276, 0.01757469244288225, 0, 0]\n",
      "0.18453427065026365\n",
      "\n",
      "[0.027257240204429302, 0.015332197614991482, 0.008517887563884156, 0.0017035775127768314, 0]\n",
      "0.05281090289608177\n",
      "\n",
      "[0.11494252873563218, 0.019704433497536946, 0.003284072249589491, 0, 0]\n",
      "0.13793103448275862\n",
      "\n",
      "[0.021885521885521887, 0.010101010101010102, 0.015151515151515152, 0.0016835016835016834, 0]\n",
      "0.04882154882154882\n",
      "\n",
      "[0, 0, 0.009009009009009009, 0.009009009009009009, 0]\n",
      "0.018018018018018018\n",
      "\n",
      "[0, 0, 0.021505376344086023, 0, 0]\n",
      "0.021505376344086023\n",
      "\n",
      "[0, 0, 0.014903129657228018, 0.003974167908594138, 0.006458022851465474]\n",
      "0.02533532041728763\n",
      "\n",
      "[0, 0, 0.00632295719844358, 0.0048638132295719845, 0.004377431906614786]\n",
      "0.01556420233463035\n",
      "\n",
      "[0, 0.014462809917355372, 0.012396694214876033, 0.004132231404958678, 0.002066115702479339]\n",
      "0.03305785123966942\n",
      "\n",
      "[0, 0.0066518847006651885, 0.008869179600886918, 0.004434589800443459, 0]\n",
      "0.019955654101995568\n",
      "\n",
      "[0, 0.016018306636155607, 0.011441647597254004, 0, 0]\n",
      "0.027459954233409613\n",
      "\n",
      "[0, 0.0045662100456621, 0.0091324200913242, 0.0045662100456621, 0.00228310502283105]\n",
      "0.02054794520547945\n",
      "\n"
     ]
    }
   ],
   "source": [
    "buy_prod = []\n",
    "for i in range(16):\n",
    "    temp = [0] * 5\n",
    "    datai = data[data.id == i]\n",
    "    datai1 = datai[datai['policies sold'] == 1]\n",
    "    total = len(datai)\n",
    "    dd = datai1['rank'].value_counts().to_dict()\n",
    "    for j in range(1, 6):\n",
    "        if j in dd:\n",
    "            temp[j-1] = dd[j] / total\n",
    "        else:\n",
    "            temp[j-1] = 0\n",
    "    print(temp)\n",
    "    print(sum(temp))\n",
    "    print()\n",
    "    buy_prod.append(temp)\n",
    "    "
   ]
  },
  {
   "cell_type": "code",
   "execution_count": 15,
   "metadata": {},
   "outputs": [],
   "source": [
    "for i in range(16):\n",
    "    temp = [1-sum(buy_prod[i])] + buy_prod[i]\n",
    "    buy_prod[i] = temp"
   ]
  },
  {
   "cell_type": "code",
   "execution_count": 46,
   "metadata": {},
   "outputs": [],
   "source": [
    "temp = data[data['policies sold'] == 1]"
   ]
  },
  {
   "cell_type": "code",
   "execution_count": 47,
   "metadata": {},
   "outputs": [],
   "source": [
    "temp = temp['rank'].value_counts()"
   ]
  },
  {
   "cell_type": "code",
   "execution_count": 53,
   "metadata": {},
   "outputs": [
    {
     "data": {
      "text/plain": [
       "{1: 260, 3: 123, 2: 101, 4: 37, 5: 24}"
      ]
     },
     "execution_count": 53,
     "metadata": {},
     "output_type": "execute_result"
    }
   ],
   "source": [
    "temp.to_dict()"
   ]
  },
  {
   "cell_type": "code",
   "execution_count": 16,
   "metadata": {},
   "outputs": [],
   "source": [
    "b =buy_prod.copy()"
   ]
  },
  {
   "cell_type": "code",
   "execution_count": 18,
   "metadata": {
    "scrolled": true
   },
   "outputs": [
    {
     "name": "stdout",
     "output_type": "stream",
     "text": [
      "[[0.8974358974358975, 0.05128205128205128, 0.05128205128205128, 0, 0, 0], [0.8205128205128205, 0.10256410256410256, 0.05128205128205128, 0, 0.02564102564102564, 0], [0.8820375335120644, 0.06032171581769437, 0.030831099195710455, 0.020107238605898123, 0.006702412868632708, 0], [0.9128065395095368, 0.04632152588555858, 0.01226158038147139, 0.02316076294277929, 0.005449591280653951, 0], [0.8154657293497364, 0.1335676625659051, 0.033391915641476276, 0.01757469244288225, 0, 0], [0.9471890971039182, 0.027257240204429302, 0.015332197614991482, 0.008517887563884156, 0.0017035775127768314, 0], [0.8620689655172413, 0.11494252873563218, 0.019704433497536946, 0.003284072249589491, 0, 0], [0.9511784511784511, 0.021885521885521887, 0.010101010101010102, 0.015151515151515152, 0.0016835016835016834, 0], [0.9819819819819819, 0, 0, 0.009009009009009009, 0.009009009009009009, 0], [0.978494623655914, 0, 0, 0.021505376344086023, 0, 0], [0.9746646795827124, 0, 0, 0.014903129657228018, 0.003974167908594138, 0.006458022851465474], [0.9844357976653697, 0, 0, 0.00632295719844358, 0.0048638132295719845, 0.004377431906614786], [0.9669421487603306, 0, 0.014462809917355372, 0.012396694214876033, 0.004132231404958678, 0.002066115702479339], [0.9800443458980044, 0, 0.0066518847006651885, 0.008869179600886918, 0.004434589800443459, 0], [0.9725400457665904, 0, 0.016018306636155607, 0.011441647597254004, 0, 0], [0.9794520547945206, 0, 0.0045662100456621, 0.0091324200913242, 0.0045662100456621, 0.00228310502283105]]\n"
     ]
    }
   ],
   "source": [
    "print(b)"
   ]
  },
  {
   "cell_type": "code",
   "execution_count": 9,
   "metadata": {},
   "outputs": [],
   "source": [
    "data['id'] = 8* (data.number_of_vehicles - 1) + 4 * (data.number_of_drivers - 1) + 2 * data.married + data.currently_insured"
   ]
  },
  {
   "cell_type": "code",
   "execution_count": 10,
   "metadata": {},
   "outputs": [
    {
     "data": {
      "text/html": [
       "<div>\n",
       "<style scoped>\n",
       "    .dataframe tbody tr th:only-of-type {\n",
       "        vertical-align: middle;\n",
       "    }\n",
       "\n",
       "    .dataframe tbody tr th {\n",
       "        vertical-align: top;\n",
       "    }\n",
       "\n",
       "    .dataframe thead th {\n",
       "        text-align: right;\n",
       "    }\n",
       "</style>\n",
       "<table border=\"1\" class=\"dataframe\">\n",
       "  <thead>\n",
       "    <tr style=\"text-align: right;\">\n",
       "      <th></th>\n",
       "      <th>impression_id</th>\n",
       "      <th>click</th>\n",
       "      <th>currently_insured</th>\n",
       "      <th>number_of_vehicles</th>\n",
       "      <th>number_of_drivers</th>\n",
       "      <th>rank</th>\n",
       "      <th>policies sold</th>\n",
       "      <th>married</th>\n",
       "      <th>id</th>\n",
       "    </tr>\n",
       "  </thead>\n",
       "  <tbody>\n",
       "    <tr>\n",
       "      <th>0</th>\n",
       "      <td>1</td>\n",
       "      <td>1</td>\n",
       "      <td>0</td>\n",
       "      <td>1</td>\n",
       "      <td>1</td>\n",
       "      <td>1</td>\n",
       "      <td>1</td>\n",
       "      <td>1</td>\n",
       "      <td>2</td>\n",
       "    </tr>\n",
       "    <tr>\n",
       "      <th>1</th>\n",
       "      <td>2</td>\n",
       "      <td>0</td>\n",
       "      <td>0</td>\n",
       "      <td>2</td>\n",
       "      <td>1</td>\n",
       "      <td>4</td>\n",
       "      <td>0</td>\n",
       "      <td>1</td>\n",
       "      <td>10</td>\n",
       "    </tr>\n",
       "    <tr>\n",
       "      <th>2</th>\n",
       "      <td>3</td>\n",
       "      <td>0</td>\n",
       "      <td>0</td>\n",
       "      <td>1</td>\n",
       "      <td>1</td>\n",
       "      <td>2</td>\n",
       "      <td>0</td>\n",
       "      <td>0</td>\n",
       "      <td>0</td>\n",
       "    </tr>\n",
       "    <tr>\n",
       "      <th>3</th>\n",
       "      <td>4</td>\n",
       "      <td>0</td>\n",
       "      <td>1</td>\n",
       "      <td>2</td>\n",
       "      <td>1</td>\n",
       "      <td>5</td>\n",
       "      <td>0</td>\n",
       "      <td>1</td>\n",
       "      <td>11</td>\n",
       "    </tr>\n",
       "    <tr>\n",
       "      <th>4</th>\n",
       "      <td>5</td>\n",
       "      <td>0</td>\n",
       "      <td>1</td>\n",
       "      <td>2</td>\n",
       "      <td>2</td>\n",
       "      <td>4</td>\n",
       "      <td>0</td>\n",
       "      <td>0</td>\n",
       "      <td>13</td>\n",
       "    </tr>\n",
       "  </tbody>\n",
       "</table>\n",
       "</div>"
      ],
      "text/plain": [
       "   impression_id  click  currently_insured  number_of_vehicles  \\\n",
       "0              1      1                  0                   1   \n",
       "1              2      0                  0                   2   \n",
       "2              3      0                  0                   1   \n",
       "3              4      0                  1                   2   \n",
       "4              5      0                  1                   2   \n",
       "\n",
       "   number_of_drivers  rank  policies sold  married  id  \n",
       "0                  1     1              1        1   2  \n",
       "1                  1     4              0        1  10  \n",
       "2                  1     2              0        0   0  \n",
       "3                  1     5              0        1  11  \n",
       "4                  2     4              0        0  13  "
      ]
     },
     "execution_count": 10,
     "metadata": {},
     "output_type": "execute_result"
    }
   ],
   "source": [
    "data.head()"
   ]
  },
  {
   "cell_type": "code",
   "execution_count": null,
   "metadata": {},
   "outputs": [],
   "source": []
  }
 ],
 "metadata": {
  "kernelspec": {
   "display_name": "Python 3",
   "language": "python",
   "name": "python3"
  },
  "language_info": {
   "codemirror_mode": {
    "name": "ipython",
    "version": 3
   },
   "file_extension": ".py",
   "mimetype": "text/x-python",
   "name": "python",
   "nbconvert_exporter": "python",
   "pygments_lexer": "ipython3",
   "version": "3.7.6"
  }
 },
 "nbformat": 4,
 "nbformat_minor": 2
}
