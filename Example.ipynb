{
 "cells": [
  {
   "cell_type": "markdown",
   "metadata": {},
   "source": [
    "# Import Necessary Modules"
   ]
  },
  {
   "cell_type": "code",
   "execution_count": 1,
   "metadata": {},
   "outputs": [],
   "source": [
    "import numpy as np\n",
    "import pandas as pd\n",
    "from zhan_roles import Company, SearchWebsite, updateQ\n",
    "import pickle"
   ]
  },
  {
   "cell_type": "markdown",
   "metadata": {},
   "source": [
    "# Read in data"
   ]
  },
  {
   "cell_type": "code",
   "execution_count": null,
   "metadata": {},
   "outputs": [],
   "source": [
    "data = pd.read_csv(\"clean.csv\")"
   ]
  },
  {
   "cell_type": "code",
   "execution_count": 5,
   "metadata": {},
   "outputs": [
    {
     "name": "stdout",
     "output_type": "stream",
     "text": [
      "1    7627\n",
      "0    2373\n",
      "Name: married, dtype: int64\n",
      "2    6083\n",
      "1    3917\n",
      "Name: number_of_vehicles, dtype: int64\n",
      "1    5831\n",
      "2    4169\n",
      "Name: number_of_drivers, dtype: int64\n",
      "0    5008\n",
      "1    4992\n",
      "Name: currently_insured, dtype: int64\n"
     ]
    }
   ],
   "source": [
    "### Initialize objects\n",
    "\n",
    "#with open(\"sw.data\", \"rb\") as fp:\n",
    "#    sw = pickle.load(fp)\n",
    "#\n",
    "# or\n",
    "sw = SearchWebsite(updateQ, 10000, p_vehicle=0.6083, p_driver=0.4169, p_insured=0.4992, p_marital=0.7627)"
   ]
  },
  {
   "cell_type": "code",
   "execution_count": 6,
   "metadata": {
    "scrolled": true
   },
   "outputs": [
    {
     "name": "stdout",
     "output_type": "stream",
     "text": [
      "epoch: 10\n",
      "epoch: 20\n",
      "epoch: 30\n",
      "epoch: 40\n",
      "epoch: 50\n",
      "epoch: 60\n",
      "epoch: 70\n",
      "epoch: 80\n",
      "epoch: 90\n",
      "epoch: 100\n"
     ]
    }
   ],
   "source": [
    "for e in range(100):\n",
    "    sw.train()\n",
    "    if e % 10 == 9:\n",
    "        print('epoch: {}'.format(e + 1))\n",
    "print(\"Training finished\")"
   ]
  },
  {
   "cell_type": "markdown",
   "metadata": {},
   "source": [
    "# Test q_table"
   ]
  },
  {
   "cell_type": "code",
   "execution_count": 7,
   "metadata": {},
   "outputs": [],
   "source": [
    "sw.test()"
   ]
  },
  {
   "cell_type": "code",
   "execution_count": 21,
   "metadata": {},
   "outputs": [
    {
     "name": "stdout",
     "output_type": "stream",
     "text": [
      "268\n",
      "140\n",
      "106\n",
      "52\n",
      "8\n"
     ]
    }
   ],
   "source": [
    "for i in range(5):\n",
    "    print(sw.companies[i].num_total_sold)"
   ]
  },
  {
   "cell_type": "code",
   "execution_count": 12,
   "metadata": {},
   "outputs": [],
   "source": [
    "df_c = []\n",
    "for company in sw.companies:\n",
    "    df_c.append(pd.DataFrame(company.record))"
   ]
  },
  {
   "cell_type": "code",
   "execution_count": 14,
   "metadata": {},
   "outputs": [
    {
     "name": "stdout",
     "output_type": "stream",
     "text": [
      "9.5142\n",
      "9.5012\n",
      "9.6184\n",
      "9.5026\n",
      "9.535\n"
     ]
    }
   ],
   "source": [
    "for df in df_c:\n",
    "    print(df.current_price.mean())"
   ]
  },
  {
   "cell_type": "code",
   "execution_count": 11,
   "metadata": {},
   "outputs": [
    {
     "name": "stdout",
     "output_type": "stream",
     "text": [
      "1    7650\n",
      "0    2361\n",
      "Name: married, dtype: int64\n",
      "1    6097\n",
      "0    3914\n",
      "Name: number_of_vehicles, dtype: int64\n",
      "0    5901\n",
      "1    4110\n",
      "Name: number_of_drivers, dtype: int64\n",
      "1    5019\n",
      "0    4992\n",
      "Name: currently_insured, dtype: int64\n"
     ]
    }
   ],
   "source": [
    "for name in ['married', 'number_of_vehicles', 'number_of_drivers', 'currently_insured']:\n",
    "    print(df1[name].value_counts())"
   ]
  },
  {
   "cell_type": "code",
   "execution_count": 53,
   "metadata": {},
   "outputs": [
    {
     "data": {
      "text/plain": [
       "{1: 260, 3: 123, 2: 101, 4: 37, 5: 24}"
      ]
     },
     "execution_count": 53,
     "metadata": {},
     "output_type": "execute_result"
    }
   ],
   "source": [
    "temp.to_dict()"
   ]
  },
  {
   "cell_type": "code",
   "execution_count": 16,
   "metadata": {},
   "outputs": [],
   "source": [
    "b =buy_prod.copy()"
   ]
  },
  {
   "cell_type": "code",
   "execution_count": 18,
   "metadata": {
    "scrolled": true
   },
   "outputs": [
    {
     "name": "stdout",
     "output_type": "stream",
     "text": [
      "[[0.8974358974358975, 0.05128205128205128, 0.05128205128205128, 0, 0, 0], [0.8205128205128205, 0.10256410256410256, 0.05128205128205128, 0, 0.02564102564102564, 0], [0.8820375335120644, 0.06032171581769437, 0.030831099195710455, 0.020107238605898123, 0.006702412868632708, 0], [0.9128065395095368, 0.04632152588555858, 0.01226158038147139, 0.02316076294277929, 0.005449591280653951, 0], [0.8154657293497364, 0.1335676625659051, 0.033391915641476276, 0.01757469244288225, 0, 0], [0.9471890971039182, 0.027257240204429302, 0.015332197614991482, 0.008517887563884156, 0.0017035775127768314, 0], [0.8620689655172413, 0.11494252873563218, 0.019704433497536946, 0.003284072249589491, 0, 0], [0.9511784511784511, 0.021885521885521887, 0.010101010101010102, 0.015151515151515152, 0.0016835016835016834, 0], [0.9819819819819819, 0, 0, 0.009009009009009009, 0.009009009009009009, 0], [0.978494623655914, 0, 0, 0.021505376344086023, 0, 0], [0.9746646795827124, 0, 0, 0.014903129657228018, 0.003974167908594138, 0.006458022851465474], [0.9844357976653697, 0, 0, 0.00632295719844358, 0.0048638132295719845, 0.004377431906614786], [0.9669421487603306, 0, 0.014462809917355372, 0.012396694214876033, 0.004132231404958678, 0.002066115702479339], [0.9800443458980044, 0, 0.0066518847006651885, 0.008869179600886918, 0.004434589800443459, 0], [0.9725400457665904, 0, 0.016018306636155607, 0.011441647597254004, 0, 0], [0.9794520547945206, 0, 0.0045662100456621, 0.0091324200913242, 0.0045662100456621, 0.00228310502283105]]\n"
     ]
    }
   ],
   "source": [
    "print(b)"
   ]
  },
  {
   "cell_type": "code",
   "execution_count": 9,
   "metadata": {},
   "outputs": [],
   "source": [
    "data['id'] = 8* (data.number_of_vehicles - 1) + 4 * (data.number_of_drivers - 1) + 2 * data.married + data.currently_insured"
   ]
  },
  {
   "cell_type": "code",
   "execution_count": 10,
   "metadata": {},
   "outputs": [
    {
     "data": {
      "text/html": [
       "<div>\n",
       "<style scoped>\n",
       "    .dataframe tbody tr th:only-of-type {\n",
       "        vertical-align: middle;\n",
       "    }\n",
       "\n",
       "    .dataframe tbody tr th {\n",
       "        vertical-align: top;\n",
       "    }\n",
       "\n",
       "    .dataframe thead th {\n",
       "        text-align: right;\n",
       "    }\n",
       "</style>\n",
       "<table border=\"1\" class=\"dataframe\">\n",
       "  <thead>\n",
       "    <tr style=\"text-align: right;\">\n",
       "      <th></th>\n",
       "      <th>impression_id</th>\n",
       "      <th>click</th>\n",
       "      <th>currently_insured</th>\n",
       "      <th>number_of_vehicles</th>\n",
       "      <th>number_of_drivers</th>\n",
       "      <th>rank</th>\n",
       "      <th>policies sold</th>\n",
       "      <th>married</th>\n",
       "      <th>id</th>\n",
       "    </tr>\n",
       "  </thead>\n",
       "  <tbody>\n",
       "    <tr>\n",
       "      <th>0</th>\n",
       "      <td>1</td>\n",
       "      <td>1</td>\n",
       "      <td>0</td>\n",
       "      <td>1</td>\n",
       "      <td>1</td>\n",
       "      <td>1</td>\n",
       "      <td>1</td>\n",
       "      <td>1</td>\n",
       "      <td>2</td>\n",
       "    </tr>\n",
       "    <tr>\n",
       "      <th>1</th>\n",
       "      <td>2</td>\n",
       "      <td>0</td>\n",
       "      <td>0</td>\n",
       "      <td>2</td>\n",
       "      <td>1</td>\n",
       "      <td>4</td>\n",
       "      <td>0</td>\n",
       "      <td>1</td>\n",
       "      <td>10</td>\n",
       "    </tr>\n",
       "    <tr>\n",
       "      <th>2</th>\n",
       "      <td>3</td>\n",
       "      <td>0</td>\n",
       "      <td>0</td>\n",
       "      <td>1</td>\n",
       "      <td>1</td>\n",
       "      <td>2</td>\n",
       "      <td>0</td>\n",
       "      <td>0</td>\n",
       "      <td>0</td>\n",
       "    </tr>\n",
       "    <tr>\n",
       "      <th>3</th>\n",
       "      <td>4</td>\n",
       "      <td>0</td>\n",
       "      <td>1</td>\n",
       "      <td>2</td>\n",
       "      <td>1</td>\n",
       "      <td>5</td>\n",
       "      <td>0</td>\n",
       "      <td>1</td>\n",
       "      <td>11</td>\n",
       "    </tr>\n",
       "    <tr>\n",
       "      <th>4</th>\n",
       "      <td>5</td>\n",
       "      <td>0</td>\n",
       "      <td>1</td>\n",
       "      <td>2</td>\n",
       "      <td>2</td>\n",
       "      <td>4</td>\n",
       "      <td>0</td>\n",
       "      <td>0</td>\n",
       "      <td>13</td>\n",
       "    </tr>\n",
       "  </tbody>\n",
       "</table>\n",
       "</div>"
      ],
      "text/plain": [
       "   impression_id  click  currently_insured  number_of_vehicles  \\\n",
       "0              1      1                  0                   1   \n",
       "1              2      0                  0                   2   \n",
       "2              3      0                  0                   1   \n",
       "3              4      0                  1                   2   \n",
       "4              5      0                  1                   2   \n",
       "\n",
       "   number_of_drivers  rank  policies sold  married  id  \n",
       "0                  1     1              1        1   2  \n",
       "1                  1     4              0        1  10  \n",
       "2                  1     2              0        0   0  \n",
       "3                  1     5              0        1  11  \n",
       "4                  2     4              0        0  13  "
      ]
     },
     "execution_count": 10,
     "metadata": {},
     "output_type": "execute_result"
    }
   ],
   "source": [
    "data.head()"
   ]
  },
  {
   "cell_type": "code",
   "execution_count": 16,
   "metadata": {},
   "outputs": [],
   "source": [
    "p1 = pd.read_csv(\"prob_sale.csv\")"
   ]
  },
  {
   "cell_type": "code",
   "execution_count": 17,
   "metadata": {},
   "outputs": [],
   "source": [
    "l = p1.values.tolist()"
   ]
  },
  {
   "cell_type": "code",
   "execution_count": 23,
   "metadata": {},
   "outputs": [
    {
     "name": "stdout",
     "output_type": "stream",
     "text": [
      "[0.2857142857142857, 0.2, 0.0, 0.0, 0.004587427142964326, 0.50969828714275]\n",
      "[0.28662420382165604, 0.11794871794871795, 0.06329113924050632, 0.03184713375796178, 0.002759240047243565, 0.49752956518391434]\n",
      "[0.2695035460992908, 0.10919540229885058, 0.08849557522123894, 0.02674384377438364, 0.006603887494395133, 0.49945774511184093]\n",
      "[0.22508038585209006, 0.07453416149068323, 0.0145985401459854, 0.003754781001068913, 0.006527205358826086, 0.6755049261513464]\n",
      "[0.2466265070172697, 0.10469536442137853, 0.047619047619047616, 0.030303030303030307, 0.0, 0.5707560506392738]\n",
      "[0.2657006463244014, 0.12109624725881575, 0.08108108108108109, 0.012618296529968454, 0.01288404360753221, 0.5066196851982012]\n",
      "[0.2261434551535555, 0.07216494845360824, 0.0375, 0.015503875968992246, 0.010204081632653059, 0.638483638791191]\n",
      "[0.2606908958744724, 0.07526881720430108, 0.038461538461538464, 0.0, 0.0, 0.6255787484596881]\n",
      "[0.3636363636363637, 0.25, 0.0, 0.07142857142857142, 0.003892700740787953, 0.3110423641942769]\n",
      "[0.2207792207792208, 0.04411764705882353, 0.07589285714285714, 0.02631578947368421, 0.004215599201564357, 0.6286788863438499]\n",
      "[0.14953271028037382, 0.05027932960893855, 0.0273224043715847, 0.00847457627118644, 0.004853236556016951, 0.7595377429118996]\n",
      "[0.1262135922330097, 0.03680981595092025, 0.04639175257731959, 0.00746268656716418, 0.002154995098805979, 0.7809671575727803]\n",
      "[0.276978044032104, 0.08449748241541781, 0.1176470588235294, 0.0, 0.0, 0.5208774147289488]\n",
      "[0.2943828240137197, 0.1349151481977051, 0.03209876543209877, 0.01644736842105263, 0.00862895493767977, 0.513526938997744]\n",
      "[0.2382395577806923, 0.03448275862068965, 0.030303030303030307, 0.014705882352941175, 0.0, 0.6822687709426465]\n",
      "[0.20003219511043824, 0.028985507246376805, 0.03053435114503817, 0.013513513513513514, 0.011111111111111113, 0.7158233218735222]\n"
     ]
    }
   ],
   "source": [
    "for ll in l:\n",
    "    temp = copy(ll[1:])\n",
    "    temp.append(1-sum(temp))\n",
    "    print(temp)"
   ]
  },
  {
   "cell_type": "code",
   "execution_count": 20,
   "metadata": {},
   "outputs": [],
   "source": [
    "from copy import copy"
   ]
  },
  {
   "cell_type": "code",
   "execution_count": 16,
   "metadata": {},
   "outputs": [
    {
     "data": {
      "text/plain": [
       "4"
      ]
     },
     "execution_count": 16,
     "metadata": {},
     "output_type": "execute_result"
    }
   ],
   "source": [
    "np.random.choice(np.arange(-1, 5), p=[0,0.1,0,0,0,0.9])"
   ]
  },
  {
   "cell_type": "code",
   "execution_count": 15,
   "metadata": {},
   "outputs": [],
   "source": []
  },
  {
   "cell_type": "code",
   "execution_count": 16,
   "metadata": {},
   "outputs": [],
   "source": []
  },
  {
   "cell_type": "code",
   "execution_count": 19,
   "metadata": {},
   "outputs": [
    {
     "name": "stdout",
     "output_type": "stream",
     "text": [
      "9.5142\n",
      "9.5012\n",
      "9.6184\n",
      "9.5026\n",
      "9.535\n"
     ]
    }
   ],
   "source": [
    "for company in sw2.companies:\n",
    "    print(pd.DataFrame(company.record).current_price.mean())"
   ]
  },
  {
   "cell_type": "code",
   "execution_count": null,
   "metadata": {},
   "outputs": [],
   "source": [
    "with open(\"sw.data\", \"wb\") as fp:\n",
    "    pickle.dump(sw, fp)"
   ]
  }
 ],
 "metadata": {
  "kernelspec": {
   "display_name": "Python 3",
   "language": "python",
   "name": "python3"
  },
  "language_info": {
   "codemirror_mode": {
    "name": "ipython",
    "version": 3
   },
   "file_extension": ".py",
   "mimetype": "text/x-python",
   "name": "python",
   "nbconvert_exporter": "python",
   "pygments_lexer": "ipython3",
   "version": "3.7.3"
  }
 },
 "nbformat": 4,
 "nbformat_minor": 2
}
